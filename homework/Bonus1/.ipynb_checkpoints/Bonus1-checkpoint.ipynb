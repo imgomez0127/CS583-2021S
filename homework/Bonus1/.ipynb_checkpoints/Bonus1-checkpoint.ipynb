{
 "cells": [
  {
   "cell_type": "markdown",
   "metadata": {},
   "source": [
    "# Bonus1: Parallel Algorithms\n",
    "\n",
    "### Name: Ian Gomez\n"
   ]
  },
  {
   "cell_type": "markdown",
   "metadata": {},
   "source": [
    "## 0. You will do the following:\n",
    "\n",
    "1. Read the lecture note: [click here](https://github.com/wangshusen/DeepLearning/blob/master/LectureNotes/Parallel/Parallel.pdf)\n",
    "\n",
    "2. Implement federated averaging or decentralized optimization.\n",
    "\n",
    "3. Plot the convergence curve. (The x-axis can be ```number of epochs``` or ```number of communication```. You must make sure the label is correct.)\n",
    "\n",
    "4. Convert the .IPYNB file to .HTML file.\n",
    "\n",
    "    * The HTML file must contain **the code** and **the output after execution**.\n",
    "    \n",
    "5. Upload this .HTML file to your Google Drive, Dropbox, or your Github repo. (If it is submitted to Google Drive or Dropbox, you must make the file open-access.)\n",
    "\n",
    "6. Submit the link to this .HTML file to Canvas.\n",
    "\n",
    "    * Example: https://github.com/wangshusen/CS583-2020S/blob/master/homework/Bonus1/Bonus1.html\n",
    "\n"
   ]
  },
  {
   "cell_type": "code",
   "execution_count": null,
   "metadata": {},
   "outputs": [],
   "source": []
  },
  {
   "cell_type": "markdown",
   "metadata": {},
   "source": [
    "# 1. Data processing\n",
    "\n",
    "- Download the Diabete dataset from https://www.csie.ntu.edu.tw/~cjlin/libsvmtools/datasets/binary/diabetes\n",
    "- Load the data using sklearn.\n",
    "- Preprocess the data."
   ]
  },
  {
   "cell_type": "markdown",
   "metadata": {},
   "source": [
    "## 1.1. Load the data"
   ]
  },
  {
   "cell_type": "code",
   "execution_count": 1,
   "metadata": {},
   "outputs": [
    {
     "name": "stdout",
     "output_type": "stream",
     "text": [
      "Shape of x: (768, 8)\n",
      "Shape of y: (768,)\n"
     ]
    }
   ],
   "source": [
    "from sklearn import datasets\n",
    "import numpy\n",
    "\n",
    "x_sparse, y = datasets.load_svmlight_file('diabetes')\n",
    "x = x_sparse.todense()\n",
    "\n",
    "print('Shape of x: ' + str(x.shape))\n",
    "print('Shape of y: ' + str(y.shape))"
   ]
  },
  {
   "cell_type": "markdown",
   "metadata": {},
   "source": [
    "## 1.2. Partition to training and test sets"
   ]
  },
  {
   "cell_type": "code",
   "execution_count": 2,
   "metadata": {},
   "outputs": [
    {
     "name": "stdout",
     "output_type": "stream",
     "text": [
      "Shape of x_train: (640, 8)\n",
      "Shape of x_test: (128, 8)\n",
      "Shape of y_train: (640, 1)\n",
      "Shape of y_test: (128, 1)\n"
     ]
    }
   ],
   "source": [
    "# partition the data to training and test sets\n",
    "n = x.shape[0]\n",
    "n_train = 640\n",
    "n_test = n - n_train\n",
    "\n",
    "rand_indices = numpy.random.permutation(n)\n",
    "train_indices = rand_indices[0:n_train]\n",
    "test_indices = rand_indices[n_train:n]\n",
    "\n",
    "x_train = x[train_indices, :]\n",
    "x_test = x[test_indices, :]\n",
    "y_train = y[train_indices].reshape(n_train, 1)\n",
    "y_test = y[test_indices].reshape(n_test, 1)\n",
    "\n",
    "print('Shape of x_train: ' + str(x_train.shape))\n",
    "print('Shape of x_test: ' + str(x_test.shape))\n",
    "print('Shape of y_train: ' + str(y_train.shape))\n",
    "print('Shape of y_test: ' + str(y_test.shape))"
   ]
  },
  {
   "cell_type": "markdown",
   "metadata": {},
   "source": [
    "## 1.3. Feature scaling"
   ]
  },
  {
   "cell_type": "markdown",
   "metadata": {},
   "source": [
    "Use the standardization to trainsform both training and test features"
   ]
  },
  {
   "cell_type": "code",
   "execution_count": 3,
   "metadata": {},
   "outputs": [
    {
     "name": "stdout",
     "output_type": "stream",
     "text": [
      "test mean = \n",
      "[[-0.13621832  0.05616356 -0.22971796  0.04707923  0.18478962 -0.07070564\n",
      "   0.00147609 -0.11279333]]\n",
      "test std = \n",
      "[[0.83179847 0.93211432 1.27557892 0.90068698 1.17443828 1.19893934\n",
      "  0.91767902 0.97604973]]\n"
     ]
    }
   ],
   "source": [
    "# Standardization\n",
    "import numpy\n",
    "\n",
    "# calculate mu and sig using the training set\n",
    "d = x_train.shape[1]\n",
    "mu = numpy.mean(x_train, axis=0).reshape(1, d)\n",
    "sig = numpy.std(x_train, axis=0).reshape(1, d)\n",
    "\n",
    "# transform the training features\n",
    "x_train = (x_train - mu) / (sig + 1E-6)\n",
    "\n",
    "# transform the test features\n",
    "x_test = (x_test - mu) / (sig + 1E-6)\n",
    "\n",
    "print('test mean = ')\n",
    "print(numpy.mean(x_test, axis=0))\n",
    "\n",
    "print('test std = ')\n",
    "print(numpy.std(x_test, axis=0))"
   ]
  },
  {
   "cell_type": "markdown",
   "metadata": {},
   "source": [
    "## 1.4. Add a dimension of all ones"
   ]
  },
  {
   "cell_type": "code",
   "execution_count": 4,
   "metadata": {},
   "outputs": [
    {
     "name": "stdout",
     "output_type": "stream",
     "text": [
      "Shape of x_train: (640, 9)\n",
      "Shape of x_test: (128, 9)\n"
     ]
    }
   ],
   "source": [
    "n_train, d = x_train.shape\n",
    "x_train = numpy.concatenate((x_train, numpy.ones((n_train, 1))), axis=1)\n",
    "\n",
    "n_test, d = x_test.shape\n",
    "x_test = numpy.concatenate((x_test, numpy.ones((n_test, 1))), axis=1)\n",
    "\n",
    "print('Shape of x_train: ' + str(x_train.shape))\n",
    "print('Shape of x_test: ' + str(x_test.shape))"
   ]
  },
  {
   "cell_type": "code",
   "execution_count": 5,
   "metadata": {},
   "outputs": [],
   "source": [
    "import numpy as np\n",
    "class Worker:\n",
    "    def __init__(self, x, y, lr, edges=None):\n",
    "        self.x = np.array(x)\n",
    "        self.y = np.array(y)\n",
    "        self.s = self.x.shape[0]\n",
    "        self.d = self.x.shape[1]\n",
    "        self.w = np.zeros((self.d, 1))\n",
    "        self.g = np.zeros((self.d, 1))\n",
    "        self.lr = lr\n",
    "        self.n_weights = []\n",
    "        self.edges = edges\n",
    "\n",
    "    def set_param(self, w):\n",
    "        self.w = w\n",
    "        \n",
    "    def loss(self):\n",
    "        y, x, w = self.y, self.x, self.w\n",
    "        yx = y*x\n",
    "        yxw = yx@w\n",
    "        vec1 = np.exp(-yxw)\n",
    "        vec2 = np.log(1+vec1)\n",
    "        return 1/self.s * np.sum(vec2)\n",
    "\n",
    "    def step(self):\n",
    "        y, x, w = self.y, self.x, self.w\n",
    "        yx = y*x\n",
    "        yxw = yx@w\n",
    "        vec1 = np.exp(yxw)\n",
    "        vec2 = yx/(1+vec1)\n",
    "        g = -np.sum(vec2, axis=0).reshape(self.d, 1)\n",
    "        self.g = g\n",
    "        self.w -= self.lr * g\n",
    "        return g\n",
    "    \n",
    "    def query(self):\n",
    "        edges = self.edges\n",
    "        #Currently just computing a non-weighted average\n",
    "        self.n_weights = np.array([neighbor.broadcast() for neighbor in edges]).reshape(-1, len(edges))\n",
    "\n",
    "    def update(self, weights=None):\n",
    "        if weights:\n",
    "            w1, w2 = weights\n",
    "        else:\n",
    "            w1, w2 = (1, 1)\n",
    "        self.w = w1 * self.w + w2 * np.sum(self.n_weights, axis=1).reshape(-1,1)\n",
    "        self.w /= len(edges)+1\n",
    "        return self.w\n",
    "\n",
    "    def broadcast(self):\n",
    "        return self.w"
   ]
  },
  {
   "cell_type": "code",
   "execution_count": 6,
   "metadata": {},
   "outputs": [
    {
     "name": "stdout",
     "output_type": "stream",
     "text": [
      "0.6931471805599454\n",
      "0.5814951873662881\n",
      "0.5701092416107586\n",
      "0.5684272915459657\n",
      "0.568137015860403\n",
      "0.5680716916323211\n",
      "0.5680543497337981\n",
      "0.5680494314653769\n",
      "0.5680480306997563\n",
      "0.5680476358658286\n",
      "0.5680475258220792\n",
      "0.5680474954129858\n",
      "0.5680474870632889\n",
      "0.5680474847822005\n",
      "0.5680474841616928\n",
      "0.5680474839935324\n",
      "0.5680474839481081\n",
      "0.5680474839358717\n",
      "0.568047483932583\n",
      "0.5680474839317007\n",
      "0.6931471805599454\n",
      "0.5814951873662881\n",
      "0.5785002489055026\n",
      "0.5783785592746924\n",
      "0.5783730057358124\n",
      "0.5783726916905557\n",
      "0.5783726713787025\n",
      "0.5783726699865019\n",
      "0.5783726698904574\n",
      "0.5783726698838831\n",
      "0.5783726698834375\n",
      "0.5783726698834075\n",
      "0.5783726698834055\n",
      "0.5783726698834053\n",
      "0.5783726698834054\n",
      "0.5783726698834054\n",
      "0.5783726698834053\n",
      "0.5783726698834054\n",
      "0.5783726698834054\n",
      "0.5783726698834054\n",
      "[[-0.18696435]\n",
      " [-0.1728632 ]\n",
      " [-0.04623066]\n",
      " [ 0.02504836]\n",
      " [ 0.07705771]\n",
      " [-0.13848109]\n",
      " [-0.05308515]\n",
      " [-0.16505551]\n",
      " [ 0.15723679]] [[-0.10520085]\n",
      " [-0.24140616]\n",
      " [-0.0755981 ]\n",
      " [-0.06153981]\n",
      " [-0.10578745]\n",
      " [-0.14720477]\n",
      " [-0.14771803]\n",
      " [-0.18381402]\n",
      " [ 0.11809119]] [[-0.05824309]\n",
      " [-0.1813204 ]\n",
      " [ 0.06443544]\n",
      " [-0.08526191]\n",
      " [-0.07225829]\n",
      " [-0.13576382]\n",
      " [-0.16590629]\n",
      " [-0.06337886]\n",
      " [ 0.18394714]] [[-0.21403003]\n",
      " [-0.34269359]\n",
      " [-0.10517438]\n",
      " [-0.09247797]\n",
      " [-0.1352237 ]\n",
      " [-0.14984019]\n",
      " [-0.11602544]\n",
      " [-0.12447981]\n",
      " [ 0.07230507]] [[-0.12305693]\n",
      " [-0.23648788]\n",
      " [-0.04736896]\n",
      " [-0.094226  ]\n",
      " [-0.10404072]\n",
      " [-0.24076578]\n",
      " [-0.09484294]\n",
      " [-0.06255754]\n",
      " [ 0.04051085]] [[-0.18689138]\n",
      " [-0.21565218]\n",
      " [-0.05481392]\n",
      " [-0.01440331]\n",
      " [-0.0173401 ]\n",
      " [-0.09208941]\n",
      " [-0.13592639]\n",
      " [-0.15632729]\n",
      " [ 0.2179023 ]] [[-0.13917502]\n",
      " [-0.21025491]\n",
      " [ 0.0085247 ]\n",
      " [-0.12121645]\n",
      " [-0.10268359]\n",
      " [-0.19621981]\n",
      " [-0.09967741]\n",
      " [-0.18085979]\n",
      " [ 0.16409395]]\n"
     ]
    }
   ],
   "source": [
    "edges = [[1,2],[0,2,3],[0,1,4],[1,4,5,6],[2,3],[3,6],[3,5]]\n",
    "def setup_graph(m, X, y, lr, edges):\n",
    "    s = X.shape[0]//m\n",
    "    samples = [(X[i*s:i*s+s], y[i*s:i*s+s]) for i in range(m)]\n",
    "    graph = [Worker(*sample, lr) for sample in samples]\n",
    "    edges = [list(map(lambda i: graph[i], edge)) for edge in edges]\n",
    "    for worker, edge in zip(graph, edges):\n",
    "        worker.edges = edge\n",
    "    return graph\n",
    "\n",
    "def run_optimization(graph, epochs, weights=None):\n",
    "    losses = []\n",
    "    for _ in range(epochs):\n",
    "        L = 0\n",
    "        for worker in graph:\n",
    "            L += worker.loss()\n",
    "        for worker in graph:\n",
    "            worker.query()\n",
    "        for worker in graph:\n",
    "            worker.update(weights=weights)\n",
    "        for i, worker in enumerate(graph):\n",
    "            worker.step()\n",
    "        print(L/len(graph))\n",
    "        losses.append(L/len(graph))\n",
    "    return losses\n",
    "            \n",
    "def print_weights(graph):\n",
    "    print(*list(map(lambda x: x.w, graph)))\n",
    "    \n",
    "graph = setup_graph(7, x_train, y_train, 1e-2, edges)\n",
    "graph2 = setup_graph(7, x_train, y_train, 1e-2, edges)\n",
    "losses = run_optimization(graph, 20)\n",
    "losses2 = run_optimization(graph2, 20, [0.25, 0.25])\n",
    "print_weights(graph)"
   ]
  },
  {
   "cell_type": "code",
   "execution_count": 7,
   "metadata": {},
   "outputs": [
    {
     "data": {
      "image/png": "[encoded data removed]",
      "text/plain": [
       "<Figure size 432x288 with 1 Axes>"
      ]
     },
     "metadata": {
      "needs_background": "light"
     },
     "output_type": "display_data"
    }
   ],
   "source": [
    "import matplotlib.pyplot as plt\n",
    "plt.plot(range(len(losses)),losses, label=\"Unweighted\")\n",
    "plt.plot(range(len(losses2)),losses2, label=\"Weighted\")\n",
    "plt.legend()\n",
    "plt.show()"
   ]
  },
  {
   "cell_type": "code",
   "execution_count": 8,
   "metadata": {},
   "outputs": [
    {
     "name": "stdout",
     "output_type": "stream",
     "text": [
      "Unweighted Test Accuracy: 0.7578125\n",
      "Weighted Test Accuracy: 0.7578125\n"
     ]
    }
   ],
   "source": [
    "def predict(graph, x):\n",
    "    w = np.mean(np.array([x.w for x in graph]), axis=0).reshape(-1,1)\n",
    "    return np.sign(x@w)\n",
    "predictions = predict(graph, x_test)\n",
    "predictions2 = predict(graph2, x_test)\n",
    "print(\"Unweighted Test Accuracy:\", np.sum(predictions == y_test)/len(y_test))\n",
    "print(\"Weighted Test Accuracy:\", np.sum(predictions2 == y_test)/len(y_test))"
   ]
  }
 ],
 "metadata": {
  "kernelspec": {
   "display_name": "Python 3",
   "language": "python",
   "name": "python3"
  },
  "language_info": {
   "codemirror_mode": {
    "name": "ipython",
    "version": 3
   },
   "file_extension": ".py",
   "mimetype": "text/x-python",
   "name": "python",
   "nbconvert_exporter": "python",
   "pygments_lexer": "ipython3",
   "version": "3.8.5"
  }
 },
 "nbformat": 4,
 "nbformat_minor": 2
}
