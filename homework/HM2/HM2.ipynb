{
 "cells": [
  {
   "cell_type": "markdown",
   "metadata": {},
   "source": [
    "# HM2: Numerical Optimization for Logistic Regression.\n",
    "\n",
    "### Name: Ian Gomez\n"
   ]
  },
  {
   "cell_type": "markdown",
   "metadata": {},
   "source": [
    "## 0. You will do the following:\n",
    "\n",
    "1. Read the lecture note: [click here](https://github.com/wangshusen/DeepLearning/blob/master/LectureNotes/Logistic/paper/logistic.pdf)\n",
    "\n",
    "2. Read, complete, and run my code.\n",
    "\n",
    "3. **Implement mini-batch SGD** and evaluate the performance.\n",
    "\n",
    "4. Convert the .IPYNB file to .HTML file.\n",
    "\n",
    "    * The HTML file must contain **the code** and **the output after execution**.\n",
    "    \n",
    "    * Missing **the output after execution** will not be graded.\n",
    "    \n",
    "5. Upload this .HTML file to your Google Drive, Dropbox, or your Github repo.  (If you submit the file to Google Drive or Dropbox, you must make the file \"open-access\". The delay caused by \"deny of access\" may result in late penalty.)\n",
    "\n",
    "6. Submit the link to this .HTML file to Canvas.\n",
    "\n",
    "    * Example: https://github.com/wangshusen/CS583-2020S/blob/master/homework/HM2/HM2.html\n",
    "\n",
    "\n",
    "## Grading criteria:\n",
    "\n",
    "1. When computing the ```gradient``` and ```objective function value``` using a batch of samples, use **matrix-vector multiplication** rather than a FOR LOOP of **vector-vector multiplications**.\n",
    "\n",
    "2. Plot ```objective function value``` against ```epochs```. In the plot, compare GD, SGD, and MB-SGD (with $b=8$ and $b=64$). The plot must look reasonable."
   ]
  },
  {
   "cell_type": "code",
   "execution_count": null,
   "metadata": {},
   "outputs": [],
   "source": []
  },
  {
   "cell_type": "markdown",
   "metadata": {},
   "source": [
    "# 1. Data processing\n",
    "\n",
    "- Download the Diabete dataset from https://www.csie.ntu.edu.tw/~cjlin/libsvmtools/datasets/binary/diabetes\n",
    "- Load the data using sklearn.\n",
    "- Preprocess the data."
   ]
  },
  {
   "cell_type": "markdown",
   "metadata": {},
   "source": [
    "## 1.1. Load the data"
   ]
  },
  {
   "cell_type": "code",
   "execution_count": 1,
   "metadata": {},
   "outputs": [
    {
     "name": "stdout",
     "output_type": "stream",
     "text": [
      "Shape of x: (768, 8)\n",
      "Shape of y: (768,)\n"
     ]
    }
   ],
   "source": [
    "from sklearn import datasets\n",
    "import numpy\n",
    "\n",
    "x_sparse, y = datasets.load_svmlight_file('diabetes')\n",
    "x = x_sparse.todense()\n",
    "\n",
    "print('Shape of x: ' + str(x.shape))\n",
    "print('Shape of y: ' + str(y.shape))"
   ]
  },
  {
   "cell_type": "markdown",
   "metadata": {},
   "source": [
    "## 1.2. Partition to training and test sets"
   ]
  },
  {
   "cell_type": "code",
   "execution_count": 2,
   "metadata": {},
   "outputs": [
    {
     "name": "stdout",
     "output_type": "stream",
     "text": [
      "Shape of x_train: (640, 8)\n",
      "Shape of x_test: (128, 8)\n",
      "Shape of y_train: (640, 1)\n",
      "Shape of y_test: (128, 1)\n"
     ]
    }
   ],
   "source": [
    "# partition the data to training and test sets\n",
    "n = x.shape[0]\n",
    "n_train = 640\n",
    "n_test = n - n_train\n",
    "\n",
    "rand_indices = numpy.random.permutation(n)\n",
    "train_indices = rand_indices[0:n_train]\n",
    "test_indices = rand_indices[n_train:n]\n",
    "\n",
    "x_train = x[train_indices, :]\n",
    "x_test = x[test_indices, :]\n",
    "y_train = y[train_indices].reshape(n_train, 1)\n",
    "y_test = y[test_indices].reshape(n_test, 1)\n",
    "\n",
    "print('Shape of x_train: ' + str(x_train.shape))\n",
    "print('Shape of x_test: ' + str(x_test.shape))\n",
    "print('Shape of y_train: ' + str(y_train.shape))\n",
    "print('Shape of y_test: ' + str(y_test.shape))"
   ]
  },
  {
   "cell_type": "markdown",
   "metadata": {},
   "source": [
    "## 1.3. Feature scaling"
   ]
  },
  {
   "cell_type": "markdown",
   "metadata": {},
   "source": [
    "Use the standardization to trainsform both training and test features"
   ]
  },
  {
   "cell_type": "code",
   "execution_count": 3,
   "metadata": {},
   "outputs": [
    {
     "name": "stdout",
     "output_type": "stream",
     "text": [
      "test mean = \n",
      "[[ 0.02474535  0.04096918 -0.03068482 -0.00797739  0.2572974  -0.04369024\n",
      "  -0.12356992  0.03941207]]\n",
      "test std = \n",
      "[[1.03647961 0.82426274 0.98162836 0.95458419 1.38716313 0.91018197\n",
      "  0.82679523 1.02838526]]\n"
     ]
    }
   ],
   "source": [
    "# Standardization\n",
    "import numpy\n",
    "\n",
    "# calculate mu and sig using the training set\n",
    "d = x_train.shape[1]\n",
    "mu = numpy.mean(x_train, axis=0).reshape(1, d)\n",
    "sig = numpy.std(x_train, axis=0).reshape(1, d)\n",
    "\n",
    "# transform the training features\n",
    "x_train = (x_train - mu) / (sig + 1E-6)\n",
    "\n",
    "# transform the test features\n",
    "x_test = (x_test - mu) / (sig + 1E-6)\n",
    "\n",
    "print('test mean = ')\n",
    "print(numpy.mean(x_test, axis=0))\n",
    "\n",
    "print('test std = ')\n",
    "print(numpy.std(x_test, axis=0))"
   ]
  },
  {
   "cell_type": "markdown",
   "metadata": {},
   "source": [
    "## 1.4. Add a dimension of all ones"
   ]
  },
  {
   "cell_type": "code",
   "execution_count": 4,
   "metadata": {},
   "outputs": [
    {
     "name": "stdout",
     "output_type": "stream",
     "text": [
      "Shape of x_train: (640, 9)\n",
      "Shape of x_test: (128, 9)\n"
     ]
    }
   ],
   "source": [
    "n_train, d = x_train.shape\n",
    "x_train = numpy.concatenate((x_train, numpy.ones((n_train, 1))), axis=1)\n",
    "\n",
    "n_test, d = x_test.shape\n",
    "x_test = numpy.concatenate((x_test, numpy.ones((n_test, 1))), axis=1)\n",
    "\n",
    "print('Shape of x_train: ' + str(x_train.shape))\n",
    "print('Shape of x_test: ' + str(x_test.shape))"
   ]
  },
  {
   "cell_type": "markdown",
   "metadata": {},
   "source": [
    "# 2. Logistic regression model\n",
    "\n",
    "The objective function is $Q (w; X, y) = \\frac{1}{n} \\sum_{i=1}^n \\log \\Big( 1 + \\exp \\big( - y_i x_i^T w \\big) \\Big) + \\frac{\\lambda}{2} \\| w \\|_2^2 $."
   ]
  },
  {
   "cell_type": "code",
   "execution_count": 5,
   "metadata": {},
   "outputs": [],
   "source": [
    "# Calculate the objective function value\n",
    "# Inputs:\n",
    "#     w: d-by-1 matrix\n",
    "#     x: n-by-d matrix\n",
    "#     y: n-by-1 matrix\n",
    "#     lam: scalar, the regularization parameter\n",
    "# Return:\n",
    "#     objective function value (scalar)\n",
    "def objective(w, x, y, lam):\n",
    "    n, d = x.shape\n",
    "    yx = numpy.multiply(y, x) # n-by-d matrix\n",
    "    yxw = numpy.dot(yx, w) # n-by-1 matrix\n",
    "    vec1 = numpy.exp(-yxw) # n-by-1 matrix\n",
    "    vec2 = numpy.log(1 + vec1) # n-by-1 matrix\n",
    "    loss = numpy.mean(vec2) # scalar\n",
    "    reg = lam / 2 * numpy.sum(w * w) # scalar\n",
    "    return loss + reg\n",
    "    "
   ]
  },
  {
   "cell_type": "code",
   "execution_count": 6,
   "metadata": {},
   "outputs": [
    {
     "name": "stdout",
     "output_type": "stream",
     "text": [
      "Initial objective function value = 0.6931471805599453\n"
     ]
    }
   ],
   "source": [
    "# initialize w\n",
    "d = x_train.shape[1]\n",
    "w = numpy.zeros((d, 1))\n",
    "\n",
    "# evaluate the objective function value at w\n",
    "lam = 1E-6\n",
    "objval0 = objective(w, x_train, y_train, lam)\n",
    "print('Initial objective function value = ' + str(objval0))"
   ]
  },
  {
   "cell_type": "markdown",
   "metadata": {},
   "source": [
    "# 3. Numerical optimization"
   ]
  },
  {
   "cell_type": "markdown",
   "metadata": {},
   "source": [
    "## 3.1. Gradient descent\n"
   ]
  },
  {
   "cell_type": "markdown",
   "metadata": {},
   "source": [
    "The gradient at $w$ is $g = - \\frac{1}{n} \\sum_{i=1}^n \\frac{y_i x_i }{1 + \\exp ( y_i x_i^T w)} + \\lambda w$"
   ]
  },
  {
   "cell_type": "code",
   "execution_count": 7,
   "metadata": {},
   "outputs": [],
   "source": [
    "# Calculate the gradient\n",
    "# Inputs:\n",
    "#     w: d-by-1 matrix\n",
    "#     x: n-by-d matrix\n",
    "#     y: n-by-1 matrix\n",
    "#     lam: scalar, the regularization parameter\n",
    "# Return:\n",
    "#     g: g: d-by-1 matrix, full gradient\n",
    "def gradient(w, x, y, lam):\n",
    "    n, d = x.shape\n",
    "    yx = numpy.multiply(y, x) # n-by-d matrix\n",
    "    yxw = numpy.dot(yx, w) # n-by-1 matrix\n",
    "    vec1 = numpy.exp(yxw) # n-by-1 matrix\n",
    "    vec2 = numpy.divide(yx, 1+vec1) # n-by-d matrix\n",
    "    vec3 = -numpy.mean(vec2, axis=0).reshape(d, 1) # d-by-1 matrix\n",
    "    g = vec3 + lam * w\n",
    "    return g"
   ]
  },
  {
   "cell_type": "code",
   "execution_count": 8,
   "metadata": {},
   "outputs": [],
   "source": [
    "# Gradient descent for solving logistic regression\n",
    "# Inputs:\n",
    "#     x: n-by-d matrix\n",
    "#     y: n-by-1 matrix\n",
    "#     lam: scalar, the regularization parameter\n",
    "#     stepsize: scalar\n",
    "#     max_iter: integer, the maximal iterations\n",
    "#     w: d-by-1 matrix, initialization of w\n",
    "# Return:\n",
    "#     w: d-by-1 matrix, the solution\n",
    "#     objvals: a record of each iteration's objective value\n",
    "def grad_descent(x, y, lam, stepsize, max_iter=100, w=None):\n",
    "    n, d = x.shape\n",
    "    objvals = numpy.zeros(max_iter) # store the objective values\n",
    "    if w is None:\n",
    "        w = numpy.zeros((d, 1)) # zero initialization\n",
    "    \n",
    "    for t in range(max_iter):\n",
    "        objval = objective(w, x, y, lam)\n",
    "        objvals[t] = objval\n",
    "        print('Objective value at t=' + str(t) + ' is ' + str(objval))\n",
    "        g = gradient(w, x, y, lam)\n",
    "        w -= stepsize * g\n",
    "    \n",
    "    return w, objvals"
   ]
  },
  {
   "cell_type": "markdown",
   "metadata": {},
   "source": [
    "Run gradient descent."
   ]
  },
  {
   "cell_type": "code",
   "execution_count": 9,
   "metadata": {},
   "outputs": [
    {
     "name": "stdout",
     "output_type": "stream",
     "text": [
      "Objective value at t=0 is 0.6931471805599453\n",
      "Objective value at t=1 is 0.5912888365678771\n",
      "Objective value at t=2 is 0.5489800960264003\n",
      "Objective value at t=3 is 0.5258972532541231\n",
      "Objective value at t=4 is 0.5113872879685408\n",
      "Objective value at t=5 is 0.5015359064789309\n",
      "Objective value at t=6 is 0.4945230445171688\n",
      "Objective value at t=7 is 0.48936727626726784\n",
      "Objective value at t=8 is 0.4854858634284913\n",
      "Objective value at t=9 is 0.48250942984725964\n",
      "Objective value at t=10 is 0.48019269209997845\n",
      "Objective value at t=11 is 0.4783669931772453\n",
      "Objective value at t=12 is 0.47691314626382836\n",
      "Objective value at t=13 is 0.4757450206337132\n",
      "Objective value at t=14 is 0.47479919282039557\n",
      "Objective value at t=15 is 0.47402820020457975\n",
      "Objective value at t=16 is 0.4733960212341261\n",
      "Objective value at t=17 is 0.4728749768918275\n",
      "Objective value at t=18 is 0.4724435638560966\n",
      "Objective value at t=19 is 0.47208491245544726\n",
      "Objective value at t=20 is 0.47178567198000887\n",
      "Objective value at t=21 is 0.47153519347931017\n",
      "Objective value at t=22 is 0.4713249229382308\n",
      "Objective value at t=23 is 0.4711479453802079\n",
      "Objective value at t=24 is 0.47099863867930153\n",
      "Objective value at t=25 is 0.47087240808977054\n",
      "Objective value at t=26 is 0.47076548083000436\n",
      "Objective value at t=27 is 0.470674745811758\n",
      "Objective value at t=28 is 0.47059762763406904\n",
      "Objective value at t=29 is 0.47053198681635716\n",
      "Objective value at t=30 is 0.4704760402920656\n",
      "Objective value at t=31 is 0.4704282976674765\n",
      "Objective value at t=32 is 0.47038750983606475\n",
      "Objective value at t=33 is 0.470352627341084\n",
      "Objective value at t=34 is 0.4703227664772924\n",
      "Objective value at t=35 is 0.4702971815725292\n",
      "Objective value at t=36 is 0.470275242230756\n",
      "Objective value at t=37 is 0.47025641457850614\n",
      "Objective value at t=38 is 0.4702402457568901\n",
      "Objective value at t=39 is 0.4702263510563074\n",
      "Objective value at t=40 is 0.4702144032117971\n",
      "Objective value at t=41 is 0.470204123471627\n",
      "Objective value at t=42 is 0.47019527412635287\n",
      "Objective value at t=43 is 0.4701876522447345\n",
      "Objective value at t=44 is 0.47018108441001405\n",
      "Objective value at t=45 is 0.47017542228777914\n",
      "Objective value at t=46 is 0.47017053888697063\n",
      "Objective value at t=47 is 0.4701663254000817\n",
      "Objective value at t=48 is 0.4701626885284635\n",
      "Objective value at t=49 is 0.47015954821481687\n",
      "Objective value at t=50 is 0.4701568357181638\n",
      "Objective value at t=51 is 0.4701544919774132\n",
      "Objective value at t=52 is 0.4701524662185538\n",
      "Objective value at t=53 is 0.47015071476784154\n",
      "Objective value at t=54 is 0.4701492000394396\n",
      "Objective value at t=55 is 0.4701478896710037\n",
      "Objective value at t=56 is 0.47014675578490717\n",
      "Objective value at t=57 is 0.47014577435629296\n",
      "Objective value at t=58 is 0.4701449246720661\n",
      "Objective value at t=59 is 0.4701441888673844\n",
      "Objective value at t=60 is 0.4701435515282642\n",
      "Objective value at t=61 is 0.47014299935063947\n",
      "Objective value at t=62 is 0.47014252084767116\n",
      "Objective value at t=63 is 0.4701421060983289\n",
      "Objective value at t=64 is 0.47014174653130475\n",
      "Objective value at t=65 is 0.47014143473919573\n",
      "Objective value at t=66 is 0.4701411643186355\n",
      "Objective value at t=67 is 0.47014092973268773\n",
      "Objective value at t=68 is 0.4701407261923478\n",
      "Objective value at t=69 is 0.4701405495544563\n",
      "Objective value at t=70 is 0.4701403962337172\n",
      "Objective value at t=71 is 0.4701402631268414\n",
      "Objective value at t=72 is 0.4701401475471235\n",
      "Objective value at t=73 is 0.47014004716799457\n",
      "Objective value at t=74 is 0.4701399599743051\n",
      "Objective value at t=75 is 0.47013988422026654\n",
      "Objective value at t=76 is 0.47013981839312874\n",
      "Objective value at t=77 is 0.47013976118180373\n",
      "Objective value at t=78 is 0.4701397114497543\n",
      "Objective value at t=79 is 0.47013966821155984\n",
      "Objective value at t=80 is 0.4701396306126585\n",
      "Objective value at t=81 is 0.47013959791182736\n",
      "Objective value at t=82 is 0.4701395694660299\n",
      "Objective value at t=83 is 0.4701395447173056\n",
      "Objective value at t=84 is 0.4701395231814252\n",
      "Objective value at t=85 is 0.47013950443807134\n",
      "Objective value at t=86 is 0.4701394881223373\n",
      "Objective value at t=87 is 0.4701394739173655\n",
      "Objective value at t=88 is 0.4701394615479721\n",
      "Objective value at t=89 is 0.47013945077512437\n",
      "Objective value at t=90 is 0.4701394413911545\n",
      "Objective value at t=91 is 0.47013943321561374\n",
      "Objective value at t=92 is 0.47013942609167664\n",
      "Objective value at t=93 is 0.47013941988302627\n",
      "Objective value at t=94 is 0.4701394144711507\n",
      "Objective value at t=95 is 0.47013940975300095\n",
      "Objective value at t=96 is 0.4701394056389573\n",
      "Objective value at t=97 is 0.4701394020510673\n",
      "Objective value at t=98 is 0.4701393989215136\n",
      "Objective value at t=99 is 0.47013939619128803\n"
     ]
    }
   ],
   "source": [
    "lam = 1E-6\n",
    "stepsize = 1.0\n",
    "w, objvals_gd = grad_descent(x_train, y_train, lam, stepsize)"
   ]
  },
  {
   "cell_type": "markdown",
   "metadata": {},
   "source": [
    "## 3.2. Stochastic gradient descent (SGD)\n",
    "\n",
    "Define $Q_i (w) = \\log \\Big( 1 + \\exp \\big( - y_i x_i^T w \\big) \\Big) + \\frac{\\lambda}{2} \\| w \\|_2^2 $.\n",
    "\n",
    "The stochastic gradient at $w$ is $g_i = \\frac{\\partial Q_i }{ \\partial w} = -\\frac{y_i x_i }{1 + \\exp ( y_i x_i^T w)} + \\lambda w$."
   ]
  },
  {
   "cell_type": "code",
   "execution_count": 10,
   "metadata": {},
   "outputs": [],
   "source": [
    "# Calculate the objective Q_i and the gradient of Q_i\n",
    "# Inputs:\n",
    "#     w: d-by-1 matrix\n",
    "#     xi: 1-by-d matrix\n",
    "#     yi: scalar\n",
    "#     lam: scalar, the regularization parameter\n",
    "# Return:\n",
    "#     obj: scalar, the objective Q_i\n",
    "#     g: d-by-1 matrix, gradient of Q_i\n",
    "def stochastic_objective_gradient(w, xi, yi, lam):\n",
    "    d = xi.shape[0]\n",
    "    yx = yi * xi # 1-by-d matrix\n",
    "    yxw = float(numpy.dot(yx, w)) # scalar\n",
    "    \n",
    "    # calculate objective function Q_i\n",
    "    loss = numpy.log(1 + numpy.exp(-yxw)) # scalar\n",
    "    reg = lam / 2 * numpy.sum(w * w) # scalar\n",
    "    obj = loss + reg\n",
    "    \n",
    "    # calculate stochastic gradient\n",
    "    g_loss = -yx.T / (1 + numpy.exp(yxw)) # d-by-1 matrix\n",
    "    g = g_loss + lam * w # d-by-1 matrix\n",
    "    \n",
    "    return obj, g"
   ]
  },
  {
   "cell_type": "code",
   "execution_count": 11,
   "metadata": {},
   "outputs": [],
   "source": [
    "# SGD for solving logistic regression\n",
    "# Inputs:\n",
    "#     x: n-by-d matrix\n",
    "#     y: n-by-1 matrix\n",
    "#     lam: scalar, the regularization parameter\n",
    "#     stepsize: scalar\n",
    "#     max_epoch: integer, the maximal epochs\n",
    "#     w: d-by-1 matrix, initialization of w\n",
    "# Return:\n",
    "#     w: the solution\n",
    "#     objvals: record of each iteration's objective value\n",
    "def sgd(x, y, lam, stepsize, max_epoch=100, w=None):\n",
    "    n, d = x.shape\n",
    "    objvals = numpy.zeros(max_epoch) # store the objective values\n",
    "    if w is None:\n",
    "        w = numpy.zeros((d, 1)) # zero initialization\n",
    "    \n",
    "    for t in range(max_epoch):\n",
    "        # randomly shuffle the samples\n",
    "        rand_indices = numpy.random.permutation(n)\n",
    "        x_rand = x[rand_indices, :]\n",
    "        y_rand = y[rand_indices, :]\n",
    "        \n",
    "        objval = 0 # accumulate the objective values\n",
    "        for i in range(n):\n",
    "            xi = x_rand[i, :] # 1-by-d matrix\n",
    "            yi = float(y_rand[i, :]) # scalar\n",
    "            obj, g = stochastic_objective_gradient(w, xi, yi, lam)\n",
    "            objval += obj\n",
    "            w -= stepsize * g\n",
    "        \n",
    "        stepsize *= 0.9 # decrease step size\n",
    "        objval /= n\n",
    "        objvals[t] = objval\n",
    "        print('Objective value at epoch t=' + str(t) + ' is ' + str(objval))\n",
    "    \n",
    "    return w, objvals"
   ]
  },
  {
   "cell_type": "markdown",
   "metadata": {},
   "source": [
    "Run SGD."
   ]
  },
  {
   "cell_type": "code",
   "execution_count": 12,
   "metadata": {},
   "outputs": [
    {
     "name": "stdout",
     "output_type": "stream",
     "text": [
      "Objective value at epoch t=0 is 0.5340653111525924\n",
      "Objective value at epoch t=1 is 0.5143296840588646\n",
      "Objective value at epoch t=2 is 0.500660771476322\n",
      "Objective value at epoch t=3 is 0.5107463746348131\n",
      "Objective value at epoch t=4 is 0.5077246814418656\n",
      "Objective value at epoch t=5 is 0.4936493862067025\n",
      "Objective value at epoch t=6 is 0.4961558406421295\n",
      "Objective value at epoch t=7 is 0.49476454348187904\n",
      "Objective value at epoch t=8 is 0.49205579104385305\n",
      "Objective value at epoch t=9 is 0.48977077429452337\n",
      "Objective value at epoch t=10 is 0.4902625614445574\n",
      "Objective value at epoch t=11 is 0.48937986613155166\n",
      "Objective value at epoch t=12 is 0.4872975348627501\n",
      "Objective value at epoch t=13 is 0.4840793601244803\n",
      "Objective value at epoch t=14 is 0.484188977933679\n",
      "Objective value at epoch t=15 is 0.48341080270854775\n",
      "Objective value at epoch t=16 is 0.48148342569512065\n",
      "Objective value at epoch t=17 is 0.47939637051707484\n",
      "Objective value at epoch t=18 is 0.47944538478862747\n",
      "Objective value at epoch t=19 is 0.4784082473523149\n",
      "Objective value at epoch t=20 is 0.47839473392200726\n",
      "Objective value at epoch t=21 is 0.4776912730424791\n",
      "Objective value at epoch t=22 is 0.4756274302533757\n",
      "Objective value at epoch t=23 is 0.47666373891297165\n",
      "Objective value at epoch t=24 is 0.4752503028730525\n",
      "Objective value at epoch t=25 is 0.47503326956251435\n",
      "Objective value at epoch t=26 is 0.47450763354260683\n",
      "Objective value at epoch t=27 is 0.4742420266573693\n",
      "Objective value at epoch t=28 is 0.4735017969869292\n",
      "Objective value at epoch t=29 is 0.47347330150461053\n",
      "Objective value at epoch t=30 is 0.473160418335539\n",
      "Objective value at epoch t=31 is 0.4727774473341051\n",
      "Objective value at epoch t=32 is 0.472669403663512\n",
      "Objective value at epoch t=33 is 0.472291011281035\n",
      "Objective value at epoch t=34 is 0.4721168719138091\n",
      "Objective value at epoch t=35 is 0.4719471447674195\n",
      "Objective value at epoch t=36 is 0.471781323522764\n",
      "Objective value at epoch t=37 is 0.4716351214341163\n",
      "Objective value at epoch t=38 is 0.47148269967589707\n",
      "Objective value at epoch t=39 is 0.4713491481968542\n",
      "Objective value at epoch t=40 is 0.47123413173112566\n",
      "Objective value at epoch t=41 is 0.4711281191895272\n",
      "Objective value at epoch t=42 is 0.4710234006612858\n",
      "Objective value at epoch t=43 is 0.47094365271427574\n",
      "Objective value at epoch t=44 is 0.4708452904079282\n",
      "Objective value at epoch t=45 is 0.47078365503993674\n",
      "Objective value at epoch t=46 is 0.47070601543742996\n",
      "Objective value at epoch t=47 is 0.4706655176484844\n",
      "Objective value at epoch t=48 is 0.47061055147974357\n",
      "Objective value at epoch t=49 is 0.470564001555892\n",
      "Objective value at epoch t=50 is 0.4705246452207712\n",
      "Objective value at epoch t=51 is 0.4704861050120299\n",
      "Objective value at epoch t=52 is 0.47045097683172143\n",
      "Objective value at epoch t=53 is 0.4704211821541445\n",
      "Objective value at epoch t=54 is 0.4703920699670313\n",
      "Objective value at epoch t=55 is 0.4703675034991737\n",
      "Objective value at epoch t=56 is 0.4703446301564263\n",
      "Objective value at epoch t=57 is 0.47032411979462047\n",
      "Objective value at epoch t=58 is 0.4703053884283313\n",
      "Objective value at epoch t=59 is 0.47028920948305986\n",
      "Objective value at epoch t=60 is 0.4702744350681961\n",
      "Objective value at epoch t=61 is 0.47026090691951505\n",
      "Objective value at epoch t=62 is 0.4702487632957525\n",
      "Objective value at epoch t=63 is 0.4702379330461808\n",
      "Objective value at epoch t=64 is 0.4702282132923766\n",
      "Objective value at epoch t=65 is 0.47021931356371827\n",
      "Objective value at epoch t=66 is 0.4702113886957151\n",
      "Objective value at epoch t=67 is 0.47020420853356937\n",
      "Objective value at epoch t=68 is 0.4701977964069668\n",
      "Objective value at epoch t=69 is 0.47019191219072515\n",
      "Objective value at epoch t=70 is 0.47018677079814514\n",
      "Objective value at epoch t=71 is 0.47018205213307696\n",
      "Objective value at epoch t=72 is 0.4701778467918195\n",
      "Objective value at epoch t=73 is 0.4701740212430588\n",
      "Objective value at epoch t=74 is 0.4701706071853887\n",
      "Objective value at epoch t=75 is 0.47016750267101504\n",
      "Objective value at epoch t=76 is 0.47016473069010123\n",
      "Objective value at epoch t=77 is 0.4701622378309961\n",
      "Objective value at epoch t=78 is 0.4701599999883913\n",
      "Objective value at epoch t=79 is 0.4701579767898787\n",
      "Objective value at epoch t=80 is 0.4701561544429341\n",
      "Objective value at epoch t=81 is 0.4701545157858001\n",
      "Objective value at epoch t=82 is 0.4701530397631145\n",
      "Objective value at epoch t=83 is 0.47015171228348607\n",
      "Objective value at epoch t=84 is 0.4701505165407668\n",
      "Objective value at epoch t=85 is 0.4701494406007102\n",
      "Objective value at epoch t=86 is 0.4701484717694423\n",
      "Objective value at epoch t=87 is 0.4701476025933709\n",
      "Objective value at epoch t=88 is 0.4701468183555463\n",
      "Objective value at epoch t=89 is 0.47014611176708715\n",
      "Objective value at epoch t=90 is 0.47014547706295484\n",
      "Objective value at epoch t=91 is 0.4701449053309991\n",
      "Objective value at epoch t=92 is 0.47014439063978575\n",
      "Objective value at epoch t=93 is 0.4701439271709691\n",
      "Objective value at epoch t=94 is 0.47014351052677766\n",
      "Objective value at epoch t=95 is 0.4701431352880241\n",
      "Objective value at epoch t=96 is 0.4701427976774788\n",
      "Objective value at epoch t=97 is 0.4701424937577993\n",
      "Objective value at epoch t=98 is 0.47014222028800445\n",
      "Objective value at epoch t=99 is 0.47014197420553333\n"
     ]
    }
   ],
   "source": [
    "lam = 1E-6\n",
    "stepsize = 0.1\n",
    "w, objvals_sgd = sgd(x_train, y_train, lam, stepsize)"
   ]
  },
  {
   "cell_type": "markdown",
   "metadata": {},
   "source": [
    "# 4. Compare GD with SGD\n",
    "\n",
    "Plot objective function values against epochs."
   ]
  },
  {
   "cell_type": "code",
   "execution_count": 13,
   "metadata": {},
   "outputs": [
    {
     "data": {
      "image/png": "[encoded data removed]",
      "text/plain": [
       "<Figure size 432x288 with 1 Axes>"
      ]
     },
     "metadata": {
      "needs_background": "light"
     },
     "output_type": "display_data"
    }
   ],
   "source": [
    "import matplotlib.pyplot as plt\n",
    "%matplotlib inline\n",
    "\n",
    "fig = plt.figure(figsize=(6, 4))\n",
    "\n",
    "epochs_gd = range(len(objvals_gd))\n",
    "epochs_sgd = range(len(objvals_sgd))\n",
    "\n",
    "line0, = plt.plot(epochs_gd, objvals_gd, '--b', LineWidth=4)\n",
    "line1, = plt.plot(epochs_sgd, objvals_sgd, '-r', LineWidth=2)\n",
    "plt.xlabel('Epochs', FontSize=20)\n",
    "plt.ylabel('Objective Value', FontSize=20)\n",
    "plt.xticks(FontSize=16)\n",
    "plt.yticks(FontSize=16)\n",
    "plt.legend([line0, line1], ['GD', 'SGD'], fontsize=20)\n",
    "plt.tight_layout()\n",
    "plt.show()\n",
    "fig.savefig('compare_gd_sgd.pdf', format='pdf', dpi=1200)"
   ]
  },
  {
   "cell_type": "markdown",
   "metadata": {},
   "source": [
    "# 5. Prediction"
   ]
  },
  {
   "cell_type": "code",
   "execution_count": 14,
   "metadata": {},
   "outputs": [],
   "source": [
    "# Predict class label\n",
    "# Inputs:\n",
    "#     w: d-by-1 matrix\n",
    "#     X: m-by-d matrix\n",
    "# Return:\n",
    "#     f: m-by-1 matrix, the predictions\n",
    "def predict(w, X):\n",
    "    xw = numpy.dot(X, w)\n",
    "    f = numpy.sign(xw)\n",
    "    return f"
   ]
  },
  {
   "cell_type": "code",
   "execution_count": 15,
   "metadata": {},
   "outputs": [
    {
     "name": "stdout",
     "output_type": "stream",
     "text": [
      "Training classification error is 0.209375\n"
     ]
    }
   ],
   "source": [
    "# evaluate training error\n",
    "f_train = predict(w, x_train)\n",
    "diff = numpy.abs(f_train - y_train) / 2\n",
    "error_train = numpy.mean(diff)\n",
    "print('Training classification error is ' + str(error_train))"
   ]
  },
  {
   "cell_type": "code",
   "execution_count": 16,
   "metadata": {},
   "outputs": [
    {
     "name": "stdout",
     "output_type": "stream",
     "text": [
      "Test classification error is 0.2265625\n"
     ]
    }
   ],
   "source": [
    "# evaluate test error\n",
    "f_test = predict(w, x_test)\n",
    "diff = numpy.abs(f_test - y_test) / 2\n",
    "error_test = numpy.mean(diff)\n",
    "print('Test classification error is ' + str(error_test))"
   ]
  },
  {
   "cell_type": "markdown",
   "metadata": {},
   "source": [
    "# 6. Mini-batch SGD (fill the code)\n",
    "\n"
   ]
  },
  {
   "cell_type": "markdown",
   "metadata": {},
   "source": [
    "## 6.1. Compute the objective $Q_I$ and its gradient using a batch of samples\n",
    "\n",
    "Define $Q_I (w) = \\frac{1}{b} \\sum_{i \\in I} \\log \\Big( 1 + \\exp \\big( - y_i x_i^T w \\big) \\Big) + \\frac{\\lambda}{2} \\| w \\|_2^2 $, where $I$ is a set containing $b$ indices randomly drawn from $\\{ 1, \\cdots , n \\}$ without replacement.\n",
    "\n",
    "The stochastic gradient at $w$ is $g_I = \\frac{\\partial Q_I }{ \\partial w} = \\frac{1}{b} \\sum_{i \\in I} \\frac{- y_i x_i }{1 + \\exp ( y_i x_i^T w)} + \\lambda w$."
   ]
  },
  {
   "cell_type": "code",
   "execution_count": 17,
   "metadata": {},
   "outputs": [],
   "source": [
    "import numpy as np\n",
    "# Calculate the objective Q_I and the gradient of Q_I\n",
    "# Inputs:\n",
    "#     w: d-by-1 matrix\n",
    "#     xi: b-by-d matrix\n",
    "#     yi: b-by-1 matrix\n",
    "#     lam: scalar, the regularization parameter\n",
    "#     b: integer, the batch size\n",
    "# Return:\n",
    "#     obj: scalar, the objective Q_i\n",
    "#     g: d-by-1 matrix, gradient of Q_i\n",
    "def mb_stochastic_objective_gradient(w, xi, yi, lam, b):\n",
    "    # Fill the function\n",
    "    # Follow the implementation of stochastic_objective_gradient\n",
    "    # Use matrix-vector multiplication; do not use FOR LOOP of vector-vector multiplications\n",
    "    obj = (1/b) * np.sum(np.log(1+np.exp(-yi*(xi@w)))) + (lam/2) * np.linalg.norm(w)**2\n",
    "    logistic_g = np.sum((-yi*(xi))/(1+np.exp(yi*(xi@w))), axis=0).reshape(w.shape)\n",
    "    g = (1/b) * logistic_g + lam * w\n",
    "    return obj, g"
   ]
  },
  {
   "cell_type": "markdown",
   "metadata": {},
   "source": [
    "## 6.2. Implement mini-batch SGD\n",
    "\n",
    "Hints:\n",
    "1. In every epoch, randomly permute the $n$ samples (just like SGD).\n",
    "2. Each epoch has $\\frac{n}{b}$ iterations. In every iteration, use $b$ samples, and compute the gradient and objective using the ``mb_stochastic_objective_gradient`` function. In the next iteration, use the next $b$ samples, and so on.\n"
   ]
  },
  {
   "cell_type": "code",
   "execution_count": 18,
   "metadata": {},
   "outputs": [],
   "source": [
    "# Mini-Batch SGD for solving logistic regression\n",
    "# Inputs:\n",
    "#     x: n-by-d matrix\n",
    "#     y: n-by-1 matrix\n",
    "#     lam: scalar, the regularization parameter\n",
    "#     b: integer, the batch size\n",
    "#     stepsize: scalar\n",
    "#     max_epoch: integer, the maximal epochs\n",
    "#     w: d-by-1 matrix, initialization of w\n",
    "# Return:\n",
    "#     w: the solution\n",
    "#     objvals: record of each iteration's objective value\n",
    "def mb_sgd(x, y, lam, b, stepsize, max_epoch=100, w=None):\n",
    "    # Fill the function\n",
    "    # Follow the implementation of sgd\n",
    "    # Record one objective value per epoch (not per iteration!)\n",
    "    if w == None:\n",
    "        w = np.zeros(x[0].shape).T\n",
    "    objvals = []\n",
    "    n = x.shape[0]\n",
    "    for _ in range(max_epoch):\n",
    "        permuted_inds = np.random.permutation(n)\n",
    "        x = x[permuted_inds]\n",
    "        y = y[permuted_inds]\n",
    "        epoch_objval = 0\n",
    "        for i in range(n//b):\n",
    "            xi = np.array(x[i*b:(i*b)+b])\n",
    "            yi = y[i*b:(i*b)+b]\n",
    "            obj, g = mb_stochastic_objective_gradient(w, xi, yi, lam, b)\n",
    "            w -= stepsize * g\n",
    "            epoch_objval += obj\n",
    "        objvals.append(epoch_objval/(n//b))\n",
    "        print(epoch_objval/(n//b))\n",
    "    return w, objvals"
   ]
  },
  {
   "cell_type": "markdown",
   "metadata": {},
   "source": [
    "## 6.3. Run MB-SGD"
   ]
  },
  {
   "cell_type": "code",
   "execution_count": 19,
   "metadata": {},
   "outputs": [
    {
     "name": "stdout",
     "output_type": "stream",
     "text": [
      "0.6530455820686882\n",
      "0.5958497582957223\n",
      "0.5618437001240915\n",
      "0.5398103711897371\n",
      "0.5247377905571173\n",
      "0.5138936221254741\n",
      "0.5057509999883287\n",
      "0.49950500975602186\n",
      "0.49474083132321167\n",
      "0.49082849339904494\n",
      "0.48771045985264677\n",
      "0.4850743746885374\n",
      "0.4830393938816364\n",
      "0.4812451871197059\n",
      "0.4797146592944431\n",
      "0.4786277629737202\n",
      "0.4775513393996801\n",
      "0.4767447870868208\n",
      "0.47600848360842296\n",
      "0.4752979390138276\n",
      "0.47473102908221304\n",
      "0.474229090703556\n",
      "0.47389178041686764\n",
      "0.4734943404687357\n",
      "0.47318599041610077\n",
      "0.4730549775042466\n",
      "0.472667951698471\n",
      "0.47245372365401456\n",
      "0.47241521741913584\n",
      "0.4721651831045543\n",
      "0.4721404701100904\n",
      "0.4719638870312866\n",
      "0.47185981444002084\n",
      "0.4717131488776838\n",
      "0.47169316726056215\n",
      "0.4715319922335893\n",
      "0.47157297446081736\n",
      "0.471489502725367\n",
      "0.47144867843408705\n",
      "0.4714414595704984\n",
      "0.47130603991596337\n",
      "0.47132575476540045\n",
      "0.4714203776365465\n",
      "0.4712491386965835\n",
      "0.47124210169650527\n",
      "0.47119085430826335\n",
      "0.4711708340111045\n",
      "0.4711130813798291\n",
      "0.4712270217037452\n",
      "0.47116454434301935\n",
      "0.47124139390057695\n",
      "0.4711246212414338\n",
      "0.47106556288260676\n",
      "0.471147807684485\n",
      "0.4711277365942146\n",
      "0.4710997939004115\n",
      "0.4711111250733432\n",
      "0.47111445851153244\n",
      "0.471111049660515\n",
      "0.47105808774899904\n",
      "0.4710890577213934\n",
      "0.47107209198630784\n",
      "0.4711062889509023\n",
      "0.4710430737510006\n",
      "0.47107032830340356\n",
      "0.4711095187755213\n",
      "0.47099464830335724\n",
      "0.47104052373475913\n",
      "0.4710735472594215\n",
      "0.4710086273147044\n",
      "0.47115558606289654\n",
      "0.4710717787827722\n",
      "0.47101969327633003\n",
      "0.47102933763183585\n",
      "0.4710236595696509\n",
      "0.47101391824041583\n",
      "0.4710985385778675\n",
      "0.4710784434946416\n",
      "0.4711549729706583\n",
      "0.4710840265669636\n",
      "0.4709767253559126\n",
      "0.47119924341504316\n",
      "0.4709677315641761\n",
      "0.47101397495063696\n",
      "0.47108099158112954\n",
      "0.4710145812244826\n",
      "0.4710220753285818\n",
      "0.47096025398918817\n",
      "0.47108549084066587\n",
      "0.471057585151037\n",
      "0.47101903348557517\n",
      "0.47100197353914186\n",
      "0.47103718742656414\n",
      "0.4710719643634234\n",
      "0.4710417743682399\n",
      "0.4710681409150038\n",
      "0.47098508013282014\n",
      "0.4710458180641911\n",
      "0.47096387141945917\n",
      "0.4710738575846599\n"
     ]
    }
   ],
   "source": [
    "# MB-SGD with batch size b=8\n",
    "lam = 1E-6 # do not change\n",
    "b = 8 # do not change\n",
    "stepsize = 0.01 # you must tune this parameter\n",
    "\n",
    "w, objvals_mbsgd8 = mb_sgd(x_train, y_train, lam, b, stepsize)"
   ]
  },
  {
   "cell_type": "code",
   "execution_count": 20,
   "metadata": {
    "scrolled": false
   },
   "outputs": [
    {
     "name": "stdout",
     "output_type": "stream",
     "text": [
      "0.6685154511461405\n",
      "0.6236717484372921\n",
      "0.5927180648783985\n",
      "0.5701502465089712\n",
      "0.5536135511370783\n",
      "0.5406770202716368\n",
      "0.5303385267763584\n",
      "0.5222812452347039\n",
      "0.5154032916902824\n",
      "0.509885766266567\n",
      "0.5049527143528614\n",
      "0.500978688756662\n",
      "0.49771059618149094\n",
      "0.4947173412021376\n",
      "0.4920540385316178\n",
      "0.4897737279587867\n",
      "0.4879073104334575\n",
      "0.4860471432886955\n",
      "0.4845332295099099\n",
      "0.48317538633129653\n",
      "0.4820138643425332\n",
      "0.4810304574648976\n",
      "0.48005696094864847\n",
      "0.479108191274087\n",
      "0.47875691814976074\n",
      "0.477676035598076\n",
      "0.47705531413809316\n",
      "0.47634624676736764\n",
      "0.4761675350263036\n",
      "0.4755666749254147\n",
      "0.47519749715945964\n",
      "0.47470014177970654\n",
      "0.47453447220452594\n",
      "0.4739356405089696\n",
      "0.47378197298687963\n",
      "0.4736506329644327\n",
      "0.47344860290858765\n",
      "0.4732055283913592\n",
      "0.4730697056042488\n",
      "0.4730321173649693\n",
      "0.47255458289091523\n",
      "0.47235870388606777\n",
      "0.47232145678506193\n",
      "0.47251049080998014\n",
      "0.47215475682302177\n",
      "0.4719882407571617\n",
      "0.47193335291235766\n",
      "0.4718080735085759\n",
      "0.47173628391902334\n",
      "0.4714675713861697\n",
      "0.4716988232643418\n",
      "0.471533833376102\n",
      "0.4714823714129719\n",
      "0.4713001558021451\n",
      "0.4713022492206023\n",
      "0.4712908274008477\n",
      "0.4713103197097796\n",
      "0.4711327955734147\n",
      "0.471108354670975\n",
      "0.471188746475239\n",
      "0.47111222828943883\n",
      "0.47127466686072983\n",
      "0.470933848827054\n",
      "0.4710299298439728\n",
      "0.4708916247878695\n",
      "0.47087714287818033\n",
      "0.4709229237586284\n",
      "0.4711415501247182\n",
      "0.47101495098478774\n",
      "0.470758943747119\n",
      "0.47088536349532806\n",
      "0.4707847872246077\n",
      "0.47096900003201325\n",
      "0.4708114114421404\n",
      "0.4709153162527232\n",
      "0.4707121832334975\n",
      "0.4708338085846238\n",
      "0.4708525007708312\n",
      "0.4709489718906873\n",
      "0.47084009798685666\n",
      "0.4709181935793665\n",
      "0.47064777197916496\n",
      "0.47076121110414854\n",
      "0.47101216151959874\n",
      "0.47082944921612074\n",
      "0.4707532392996572\n",
      "0.4705610678233757\n",
      "0.4708037591099704\n",
      "0.4707264224168576\n",
      "0.4706696811785916\n",
      "0.4708038692590992\n",
      "0.4706605458310011\n",
      "0.4707044772564323\n",
      "0.4707136063392536\n",
      "0.47071696564922777\n",
      "0.4709409133281589\n",
      "0.4707004916720178\n",
      "0.4706450900438986\n",
      "0.47076587783354623\n",
      "0.4707479203079122\n"
     ]
    }
   ],
   "source": [
    "# MB-SGD with batch size b=64\n",
    "lam = 1E-6 # do not change\n",
    "b = 64 # do not change\n",
    "stepsize = 0.05 # you must tune this parameter\n",
    "w, objvals_mbsgd64 = mb_sgd(x_train, y_train, lam, b, stepsize)"
   ]
  },
  {
   "cell_type": "markdown",
   "metadata": {},
   "source": [
    "# 7. Plot and compare GD, SGD, and MB-SGD"
   ]
  },
  {
   "cell_type": "markdown",
   "metadata": {},
   "source": [
    "You are required to compare the following algorithms:\n",
    "\n",
    "- Gradient descent (GD)\n",
    "\n",
    "- SGD\n",
    "\n",
    "- MB-SGD with b=8\n",
    "\n",
    "- MB-SGD with b=64\n",
    "\n",
    "Follow the code in Section 4 to plot ```objective function value``` against ```epochs```. There should be four curves in the plot; each curve corresponds to one algorithm."
   ]
  },
  {
   "cell_type": "markdown",
   "metadata": {},
   "source": [
    "Hint: Logistic regression with $\\ell_2$-norm regularization is a strongly convex optimization problem. All the algorithms will converge to the same solution. **In the end, the ``objective function value`` of the 4 algorithms will be the same. If not the same, your implementation must be wrong. Do NOT submit wrong code and wrong result!**"
   ]
  },
  {
   "cell_type": "code",
   "execution_count": 21,
   "metadata": {},
   "outputs": [
    {
     "data": {
      "image/png": "[encoded data removed]",
      "text/plain": [
       "<Figure size 432x288 with 1 Axes>"
      ]
     },
     "metadata": {
      "needs_background": "light"
     },
     "output_type": "display_data"
    }
   ],
   "source": [
    "# plot the 4 curves:\n",
    "%matplotlib inline\n",
    "\n",
    "fig = plt.figure(figsize=(6, 4))\n",
    "\n",
    "epochs_gd = range(len(objvals_gd))\n",
    "epochs_sgd = range(len(objvals_sgd))\n",
    "epochs_mbsgd8 = range(len(objvals_mbsgd8))\n",
    "epochs_mbsgd64 = range(len(objvals_mbsgd64))\n",
    "line0, = plt.plot(epochs_gd, objvals_gd, '--b', LineWidth=4)\n",
    "line1, = plt.plot(epochs_sgd, objvals_sgd, '-r', LineWidth=2)\n",
    "line2, = plt.plot(epochs_mbsgd8, objvals_mbsgd8, '-o', LineWidth=2)\n",
    "line3, = plt.plot(epochs_mbsgd64, objvals_mbsgd64, '-g', lineWidth=2)\n",
    "plt.xlabel('Epochs', FontSize=20)\n",
    "plt.ylabel('Objective Value', FontSize=20)\n",
    "plt.xticks(FontSize=16)\n",
    "plt.yticks(FontSize=16)\n",
    "plt.legend([line0, line1, line2, line3], ['GD', 'SGD', \"MBSGD8\", \"MBSGD64\"], fontsize=20)\n",
    "plt.tight_layout()\n",
    "plt.show()\n",
    "fig.savefig('compare_gd_sgd_mbsgd.pdf', format='pdf', dpi=1200)"
   ]
  },
  {
   "cell_type": "markdown",
   "metadata": {},
   "source": []
  }
 ],
 "metadata": {
  "kernelspec": {
   "display_name": "Python 3",
   "language": "python",
   "name": "python3"
  },
  "language_info": {
   "codemirror_mode": {
    "name": "ipython",
    "version": 3
   },
   "file_extension": ".py",
   "mimetype": "text/x-python",
   "name": "python",
   "nbconvert_exporter": "python",
   "pygments_lexer": "ipython3",
   "version": "3.8.3"
  }
 },
 "nbformat": 4,
 "nbformat_minor": 2
}
