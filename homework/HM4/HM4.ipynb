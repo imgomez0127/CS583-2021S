{
 "cells": [
  {
   "cell_type": "code",
   "execution_count": null,
   "metadata": {
    "id": "nakX8slKh4kW"
   },
   "outputs": [],
   "source": []
  },
  {
   "cell_type": "markdown",
   "metadata": {
    "id": "baLiRIYnfFAU"
   },
   "source": [
    "# Home 4: Build a CNN for image recognition.\n",
    "\n",
    "### Name: [Ian Gomez]\n"
   ]
  },
  {
   "cell_type": "markdown",
   "metadata": {
    "id": "z0qomDeXfFAX"
   },
   "source": [
    "## 0. You will do the following:\n",
    "\n",
    "1. Read, complete, and run the code.\n",
    "\n",
    "2. **Make substantial improvements** to maximize the accurcy.\n",
    "    \n",
    "3. Convert the .IPYNB file to .HTML file.\n",
    "\n",
    "    * The HTML file must contain the code and the output after execution.\n",
    "    \n",
    "    * Missing **the output after execution** will not be graded.\n",
    "    \n",
    "4. Upload this .HTML file to your Google Drive, Dropbox, or Github repo. (If you submit the file to Google Drive or Dropbox, you must make the file \"open-access\". The delay caused by \"deny of access\" may result in late penalty.)\n",
    "\n",
    "4. Submit the link to this .HTML file to Canvas.\n",
    "\n",
    "    * Example: https://github.com/wangshusen/CS583-2020S/blob/master/homework/HM4/HM4.html\n",
    "\n",
    "\n",
    "## Requirements:\n",
    "\n",
    "1. You can use whatever CNN architecture, including VGG, Inception, and ResNet. However, you must build the networks layer by layer. You must NOT import the archetectures from ```keras.applications```.\n",
    "\n",
    "2. Make sure ```BatchNormalization``` is between a ```Conv```/```Dense``` layer and an ```activation``` layer.\n",
    "\n",
    "3. If you want to regularize a ```Conv```/```Dense``` layer, you should place a ```Dropout``` layer **before** the ```Conv```/```Dense``` layer.\n",
    "\n",
    "4. An accuracy above 70% is considered reasonable. An accuracy above 80% is considered good. Without data augmentation, achieving 80% accuracy is difficult.\n",
    "\n",
    "\n",
    "## Google Colab\n",
    "\n",
    "- If you do not have GPU, the training of a CNN can be slow. Google Colab is a good option.\n",
    "\n",
    "- Keep in mind that you must download it as an IPYNB file and then use IPython Notebook to convert it to HTML.\n",
    "\n",
    "- Also keep in mind that the IPYNB and HTML files must contain the outputs. (Otherwise, the instructor will not be able to know the correctness and performance.) Do the followings to keep the outputs.\n",
    "\n",
    "- In Colab, go to ```Runtime``` --> ```Change runtime type``` --> Do NOT check ```Omit code cell output when saving this notebook```. In this way, the downloaded IPYNB file contains the outputs."
   ]
  },
  {
   "cell_type": "markdown",
   "metadata": {
    "id": "kEB9zeQqfFAZ"
   },
   "source": [
    "## 1. Data preparation"
   ]
  },
  {
   "cell_type": "markdown",
   "metadata": {
    "id": "InpMQsEjfFAa"
   },
   "source": [
    "### 1.1. Load data\n"
   ]
  },
  {
   "cell_type": "code",
   "execution_count": null,
   "metadata": {
    "colab": {
     "base_uri": "https://localhost:8080/"
    },
    "id": "eKzoCUurfFAa",
    "outputId": "4faf286e-67ba-4a71-eb03-d4794867c257"
   },
   "outputs": [
    {
     "name": "stdout",
     "output_type": "stream",
     "text": [
      "shape of x_train: (50000, 32, 32, 3)\n",
      "shape of y_train: (50000, 1)\n",
      "shape of x_test: (10000, 32, 32, 3)\n",
      "shape of y_test: (10000, 1)\n",
      "number of classes: 10\n"
     ]
    }
   ],
   "source": [
    "from keras.datasets import cifar10\n",
    "import numpy as np\n",
    "import tensorflow as tf\n",
    "\n",
    "(x_train, y_train), (x_test, y_test) = cifar10.load_data()\n",
    "#Normalize Dataset\n",
    "x_train, x_test = x_train/255, x_test/255\n",
    "\n",
    "print('shape of x_train: ' + str(x_train.shape))\n",
    "print('shape of y_train: ' + str(y_train.shape))\n",
    "print('shape of x_test: ' + str(x_test.shape))\n",
    "print('shape of y_test: ' + str(y_test.shape))\n",
    "print('number of classes: ' + str(np.max(y_train) - np.min(y_train) + 1))"
   ]
  },
  {
   "cell_type": "markdown",
   "metadata": {
    "id": "UvW8oZjXfFAb"
   },
   "source": [
    "### 1.2. One-hot encode the labels\n",
    "\n",
    "In the input, a label is a scalar in $\\{0, 1, \\cdots , 9\\}$. One-hot encode transform such a scalar to a $10$-dim vector. E.g., a scalar ```y_train[j]=3``` is transformed to the vector ```y_train_vec[j]=[0, 0, 0, 1, 0, 0, 0, 0, 0, 0]```.\n",
    "\n",
    "1. Define a function ```to_one_hot``` that transforms an $n\\times 1$ array to a $n\\times 10$ matrix.\n",
    "\n",
    "2. Apply the function to ```y_train``` and ```y_test```."
   ]
  },
  {
   "cell_type": "code",
   "execution_count": null,
   "metadata": {
    "colab": {
     "base_uri": "https://localhost:8080/"
    },
    "id": "3_ykQvxEfFAc",
    "outputId": "d2ed7093-c72a-4ed8-d719-b94fc856860e"
   },
   "outputs": [
    {
     "name": "stdout",
     "output_type": "stream",
     "text": [
      "Shape of y_train_vec: (50000, 10)\n",
      "Shape of y_test_vec: (10000, 10)\n",
      "[6]\n",
      "[0. 0. 0. 0. 0. 0. 1. 0. 0. 0.]\n"
     ]
    }
   ],
   "source": [
    "def to_one_hot(y, num_class=10):\n",
    "    return np.array(tf.one_hot(y.reshape(-1), num_class))\n",
    "\n",
    "y_train_vec = to_one_hot(y_train)\n",
    "y_test_vec = to_one_hot(y_test)\n",
    "\n",
    "print('Shape of y_train_vec: ' + str(y_train_vec.shape))\n",
    "print('Shape of y_test_vec: ' + str(y_test_vec.shape))\n",
    "\n",
    "print(y_train[0])\n",
    "print(y_train_vec[0])"
   ]
  },
  {
   "cell_type": "markdown",
   "metadata": {
    "id": "k9B4ukN_fFAc"
   },
   "source": [
    "#### Remark: the outputs should be\n",
    "* Shape of y_train_vec: (50000, 10)\n",
    "* Shape of y_test_vec: (10000, 10)\n",
    "* [6]\n",
    "* [0. 0. 0. 0. 0. 0. 1. 0. 0. 0.]"
   ]
  },
  {
   "cell_type": "markdown",
   "metadata": {
    "id": "XaKNfgXUfFAd"
   },
   "source": [
    "### 1.3. Randomly partition the training set to training and validation sets\n",
    "\n",
    "Randomly partition the 50K training samples to 2 sets:\n",
    "* a training set containing 40K samples\n",
    "* a validation set containing 10K samples\n"
   ]
  },
  {
   "cell_type": "code",
   "execution_count": null,
   "metadata": {
    "colab": {
     "base_uri": "https://localhost:8080/"
    },
    "id": "rEP9vHdTfFAd",
    "outputId": "be76ad29-ecdc-484b-aed8-343cb9daa141"
   },
   "outputs": [
    {
     "name": "stdout",
     "output_type": "stream",
     "text": [
      "Shape of x_tr: (40000, 32, 32, 3)\n",
      "Shape of y_tr: (40000, 10)\n",
      "Shape of x_val: (10000, 32, 32, 3)\n",
      "Shape of y_val: (10000, 10)\n"
     ]
    }
   ],
   "source": [
    "rand_indices = np.random.permutation(50000)\n",
    "train_indices = rand_indices[0:40000]\n",
    "valid_indices = rand_indices[40000:50000]\n",
    "\n",
    "x_val = x_train[valid_indices, :]\n",
    "y_val = y_train_vec[valid_indices, :]\n",
    "\n",
    "x_tr = x_train[train_indices, :]\n",
    "y_tr = y_train_vec[train_indices, :]\n",
    "\n",
    "print('Shape of x_tr: ' + str(x_tr.shape))\n",
    "print('Shape of y_tr: ' + str(y_tr.shape))\n",
    "print('Shape of x_val: ' + str(x_val.shape))\n",
    "print('Shape of y_val: ' + str(y_val.shape))"
   ]
  },
  {
   "cell_type": "markdown",
   "metadata": {
    "id": "CY1z5TZffFAe"
   },
   "source": [
    "## 2. Build a CNN and tune its hyper-parameters\n",
    "\n",
    "1. Build a convolutional neural network model\n",
    "2. Use the validation data to tune the hyper-parameters (e.g., network structure, and optimization algorithm)\n",
    "    * Do NOT use test data for hyper-parameter tuning!!!\n",
    "3. Try to achieve a validation accuracy as high as possible."
   ]
  },
  {
   "cell_type": "markdown",
   "metadata": {
    "id": "bl8MJNVZfFAe"
   },
   "source": [
    "### Remark: \n",
    "\n",
    "The following CNN is just an example. You are supposed to make **substantial improvements** such as:\n",
    "* Add more layers.\n",
    "* Use regularizations, e.g., dropout.\n",
    "* Use batch normalization."
   ]
  },
  {
   "cell_type": "code",
   "execution_count": null,
   "metadata": {
    "colab": {
     "base_uri": "https://localhost:8080/"
    },
    "id": "8KNRjH4vfFAe",
    "outputId": "bae87d93-05a2-441b-882a-cba7605417b1"
   },
   "outputs": [
    {
     "name": "stdout",
     "output_type": "stream",
     "text": [
      "Model: \"sequential\"\n",
      "_________________________________________________________________\n",
      "Layer (type)                 Output Shape              Param #   \n",
      "=================================================================\n",
      "conv2d (Conv2D)              (None, 32, 32, 64)        1792      \n",
      "_________________________________________________________________\n",
      "batch_normalization (BatchNo (None, 32, 32, 64)        256       \n",
      "_________________________________________________________________\n",
      "activation (Activation)      (None, 32, 32, 64)        0         \n",
      "_________________________________________________________________\n",
      "conv2d_1 (Conv2D)            (None, 32, 32, 64)        36928     \n",
      "_________________________________________________________________\n",
      "batch_normalization_1 (Batch (None, 32, 32, 64)        256       \n",
      "_________________________________________________________________\n",
      "activation_1 (Activation)    (None, 32, 32, 64)        0         \n",
      "_________________________________________________________________\n",
      "max_pooling2d (MaxPooling2D) (None, 16, 16, 64)        0         \n",
      "_________________________________________________________________\n",
      "dropout (Dropout)            (None, 16, 16, 64)        0         \n",
      "_________________________________________________________________\n",
      "conv2d_2 (Conv2D)            (None, 16, 16, 128)       73856     \n",
      "_________________________________________________________________\n",
      "batch_normalization_2 (Batch (None, 16, 16, 128)       512       \n",
      "_________________________________________________________________\n",
      "activation_2 (Activation)    (None, 16, 16, 128)       0         \n",
      "_________________________________________________________________\n",
      "conv2d_3 (Conv2D)            (None, 16, 16, 128)       147584    \n",
      "_________________________________________________________________\n",
      "batch_normalization_3 (Batch (None, 16, 16, 128)       512       \n",
      "_________________________________________________________________\n",
      "activation_3 (Activation)    (None, 16, 16, 128)       0         \n",
      "_________________________________________________________________\n",
      "max_pooling2d_1 (MaxPooling2 (None, 8, 8, 128)         0         \n",
      "_________________________________________________________________\n",
      "dropout_1 (Dropout)          (None, 8, 8, 128)         0         \n",
      "_________________________________________________________________\n",
      "conv2d_4 (Conv2D)            (None, 8, 8, 256)         295168    \n",
      "_________________________________________________________________\n",
      "batch_normalization_4 (Batch (None, 8, 8, 256)         1024      \n",
      "_________________________________________________________________\n",
      "activation_4 (Activation)    (None, 8, 8, 256)         0         \n",
      "_________________________________________________________________\n",
      "dropout_2 (Dropout)          (None, 8, 8, 256)         0         \n",
      "_________________________________________________________________\n",
      "conv2d_5 (Conv2D)            (None, 8, 8, 256)         590080    \n",
      "_________________________________________________________________\n",
      "batch_normalization_5 (Batch (None, 8, 8, 256)         1024      \n",
      "_________________________________________________________________\n",
      "activation_5 (Activation)    (None, 8, 8, 256)         0         \n",
      "_________________________________________________________________\n",
      "conv2d_6 (Conv2D)            (None, 8, 8, 256)         590080    \n",
      "_________________________________________________________________\n",
      "batch_normalization_6 (Batch (None, 8, 8, 256)         1024      \n",
      "_________________________________________________________________\n",
      "activation_6 (Activation)    (None, 8, 8, 256)         0         \n",
      "_________________________________________________________________\n",
      "max_pooling2d_2 (MaxPooling2 (None, 4, 4, 256)         0         \n",
      "_________________________________________________________________\n",
      "dropout_3 (Dropout)          (None, 4, 4, 256)         0         \n",
      "_________________________________________________________________\n",
      "conv2d_7 (Conv2D)            (None, 4, 4, 512)         1180160   \n",
      "_________________________________________________________________\n",
      "batch_normalization_7 (Batch (None, 4, 4, 512)         2048      \n",
      "_________________________________________________________________\n",
      "activation_7 (Activation)    (None, 4, 4, 512)         0         \n",
      "_________________________________________________________________\n",
      "dropout_4 (Dropout)          (None, 4, 4, 512)         0         \n",
      "_________________________________________________________________\n",
      "conv2d_8 (Conv2D)            (None, 4, 4, 512)         2359808   \n",
      "_________________________________________________________________\n",
      "batch_normalization_8 (Batch (None, 4, 4, 512)         2048      \n",
      "_________________________________________________________________\n",
      "activation_8 (Activation)    (None, 4, 4, 512)         0         \n",
      "_________________________________________________________________\n",
      "conv2d_9 (Conv2D)            (None, 4, 4, 512)         2359808   \n",
      "_________________________________________________________________\n",
      "batch_normalization_9 (Batch (None, 4, 4, 512)         2048      \n",
      "_________________________________________________________________\n",
      "activation_9 (Activation)    (None, 4, 4, 512)         0         \n",
      "_________________________________________________________________\n",
      "max_pooling2d_3 (MaxPooling2 (None, 2, 2, 512)         0         \n",
      "_________________________________________________________________\n",
      "flatten (Flatten)            (None, 2048)              0         \n",
      "_________________________________________________________________\n",
      "dense (Dense)                (None, 4096)              8392704   \n",
      "_________________________________________________________________\n",
      "batch_normalization_10 (Batc (None, 4096)              16384     \n",
      "_________________________________________________________________\n",
      "activation_10 (Activation)   (None, 4096)              0         \n",
      "_________________________________________________________________\n",
      "dropout_5 (Dropout)          (None, 4096)              0         \n",
      "_________________________________________________________________\n",
      "dense_1 (Dense)              (None, 4096)              16781312  \n",
      "_________________________________________________________________\n",
      "batch_normalization_11 (Batc (None, 4096)              16384     \n",
      "_________________________________________________________________\n",
      "activation_11 (Activation)   (None, 4096)              0         \n",
      "_________________________________________________________________\n",
      "dropout_6 (Dropout)          (None, 4096)              0         \n",
      "_________________________________________________________________\n",
      "dense_2 (Dense)              (None, 4096)              16781312  \n",
      "_________________________________________________________________\n",
      "batch_normalization_12 (Batc (None, 4096)              16384     \n",
      "_________________________________________________________________\n",
      "activation_12 (Activation)   (None, 4096)              0         \n",
      "_________________________________________________________________\n",
      "dense_3 (Dense)              (None, 10)                40970     \n",
      "=================================================================\n",
      "Total params: 49,691,466\n",
      "Trainable params: 49,661,514\n",
      "Non-trainable params: 29,952\n",
      "_________________________________________________________________\n"
     ]
    }
   ],
   "source": [
    "from keras.layers import Conv2D, MaxPooling2D, Flatten, Dense, Activation, BatchNormalization, Dropout\n",
    "from keras.models import Sequential\n",
    "import keras.activations as activations\n",
    "\n",
    "#Using VGG-16 Architecture while using dropout and other batch normalization\n",
    "model = Sequential()\n",
    "model.add(Conv2D(64, (3, 3), padding='same', input_shape=(32, 32, 3)))\n",
    "model.add(BatchNormalization())\n",
    "model.add(Activation(activations.relu))\n",
    "model.add(Conv2D(64, (3, 3), padding='same'))\n",
    "model.add(BatchNormalization())\n",
    "model.add(Activation(activations.relu))\n",
    "model.add(MaxPooling2D((2, 2)))\n",
    "model.add(Dropout(0.5))\n",
    "model.add(Conv2D(128, (3, 3), padding='same'))\n",
    "model.add(BatchNormalization())\n",
    "model.add(Activation(activations.relu))\n",
    "model.add(Conv2D(128, (3, 3), padding='same'))\n",
    "model.add(BatchNormalization())\n",
    "model.add(Activation(activations.relu))\n",
    "model.add(MaxPooling2D((2, 2)))\n",
    "model.add(Dropout(0.5))\n",
    "model.add(Conv2D(256, (3, 3), padding='same'))\n",
    "model.add(BatchNormalization())\n",
    "model.add(Activation(activations.relu))\n",
    "model.add(Dropout(0.5))\n",
    "model.add(Conv2D(256, (3, 3), padding='same'))\n",
    "model.add(BatchNormalization())\n",
    "model.add(Activation(activations.relu))\n",
    "model.add(Conv2D(256, (3, 3), padding='same'))\n",
    "model.add(BatchNormalization())\n",
    "model.add(Activation(activations.relu))\n",
    "model.add(MaxPooling2D((2, 2)))\n",
    "model.add(Dropout(0.5))\n",
    "model.add(Conv2D(512, (3, 3), padding='same'))\n",
    "model.add(BatchNormalization())\n",
    "model.add(Activation(activations.relu))\n",
    "model.add(Dropout(0.5))\n",
    "model.add(Conv2D(512, (3, 3), padding='same'))\n",
    "model.add(BatchNormalization())\n",
    "model.add(Activation(activations.relu))\n",
    "model.add(Conv2D(512, (3, 3), padding='same'))\n",
    "model.add(BatchNormalization())\n",
    "model.add(Activation(activations.relu))\n",
    "model.add(MaxPooling2D((2, 2)))\n",
    "model.add(Flatten())\n",
    "model.add(Dense(4096))\n",
    "model.add(BatchNormalization())\n",
    "model.add(Activation(activations.relu))\n",
    "model.add(Dropout(0.5))\n",
    "model.add(Dense(4096))\n",
    "model.add(BatchNormalization())\n",
    "model.add(Activation(activations.relu))\n",
    "model.add(Dropout(0.5))\n",
    "model.add(Dense(4096))\n",
    "model.add(BatchNormalization())\n",
    "model.add(Activation(activations.relu))\n",
    "model.add(Dense(10, activation='softmax'))\n",
    "\n",
    "model.summary()"
   ]
  },
  {
   "cell_type": "code",
   "execution_count": null,
   "metadata": {
    "id": "A0HtsjVcfFAf"
   },
   "outputs": [],
   "source": [
    "from keras import optimizers\n",
    "\n",
    "learning_rate = 1E-4 # to be tuned!\n",
    "\n",
    "model.compile(loss='categorical_crossentropy',\n",
    "              optimizer=optimizers.RMSprop(lr=learning_rate),\n",
    "              metrics=['acc'])"
   ]
  },
  {
   "cell_type": "code",
   "execution_count": null,
   "metadata": {
    "colab": {
     "base_uri": "https://localhost:8080/"
    },
    "id": "I5Ue-nGPfFAf",
    "outputId": "d908cf63-8f08-494d-99f2-d4d5aaab525b"
   },
   "outputs": [
    {
     "name": "stdout",
     "output_type": "stream",
     "text": [
      "Epoch 1/50\n",
      "1250/1250 [==============================] - 37s 27ms/step - loss: 2.4142 - acc: 0.1806 - val_loss: 4.4136 - val_acc: 0.1723\n",
      "Epoch 2/50\n",
      "1250/1250 [==============================] - 33s 26ms/step - loss: 1.7118 - acc: 0.3788 - val_loss: 2.4917 - val_acc: 0.2711\n",
      "Epoch 3/50\n",
      "1250/1250 [==============================] - 33s 26ms/step - loss: 1.4980 - acc: 0.4603 - val_loss: 2.4447 - val_acc: 0.3165\n",
      "Epoch 4/50\n",
      "1250/1250 [==============================] - 33s 26ms/step - loss: 1.3715 - acc: 0.5103 - val_loss: 2.7354 - val_acc: 0.3147\n",
      "Epoch 5/50\n",
      "1250/1250 [==============================] - 33s 26ms/step - loss: 1.2682 - acc: 0.5505 - val_loss: 1.5356 - val_acc: 0.5052\n",
      "Epoch 6/50\n",
      "1250/1250 [==============================] - 33s 26ms/step - loss: 1.2256 - acc: 0.5803 - val_loss: 2.0315 - val_acc: 0.3719\n",
      "Epoch 7/50\n",
      "1250/1250 [==============================] - 33s 26ms/step - loss: 1.1604 - acc: 0.6037 - val_loss: 1.3674 - val_acc: 0.5452\n",
      "Epoch 8/50\n",
      "1250/1250 [==============================] - 33s 26ms/step - loss: 1.1058 - acc: 0.6257 - val_loss: 1.2745 - val_acc: 0.6030\n",
      "Epoch 9/50\n",
      "1250/1250 [==============================] - 33s 26ms/step - loss: 1.0642 - acc: 0.6439 - val_loss: 1.1387 - val_acc: 0.6241\n",
      "Epoch 10/50\n",
      "1250/1250 [==============================] - 33s 26ms/step - loss: 1.0139 - acc: 0.6602 - val_loss: 1.1230 - val_acc: 0.6380\n",
      "Epoch 11/50\n",
      "1250/1250 [==============================] - 33s 26ms/step - loss: 0.9566 - acc: 0.6783 - val_loss: 1.1918 - val_acc: 0.6228\n",
      "Epoch 12/50\n",
      "1250/1250 [==============================] - 33s 26ms/step - loss: 0.9339 - acc: 0.6863 - val_loss: 1.1754 - val_acc: 0.6290\n",
      "Epoch 13/50\n",
      "1250/1250 [==============================] - 33s 26ms/step - loss: 0.9115 - acc: 0.7032 - val_loss: 0.9647 - val_acc: 0.6823\n",
      "Epoch 14/50\n",
      "1250/1250 [==============================] - 33s 26ms/step - loss: 0.8550 - acc: 0.7125 - val_loss: 0.8369 - val_acc: 0.7131\n",
      "Epoch 15/50\n",
      "1250/1250 [==============================] - 34s 27ms/step - loss: 0.8409 - acc: 0.7164 - val_loss: 0.7463 - val_acc: 0.7417\n",
      "Epoch 16/50\n",
      "1250/1250 [==============================] - 33s 27ms/step - loss: 0.8379 - acc: 0.7297 - val_loss: 0.8332 - val_acc: 0.7123\n",
      "Epoch 17/50\n",
      "1250/1250 [==============================] - 33s 26ms/step - loss: 0.7919 - acc: 0.7326 - val_loss: 0.8755 - val_acc: 0.7218\n",
      "Epoch 18/50\n",
      "1250/1250 [==============================] - 33s 27ms/step - loss: 0.8442 - acc: 0.7403 - val_loss: 0.7759 - val_acc: 0.7480\n",
      "Epoch 19/50\n",
      "1250/1250 [==============================] - 33s 26ms/step - loss: 0.7580 - acc: 0.7489 - val_loss: 0.7863 - val_acc: 0.7409\n",
      "Epoch 20/50\n",
      "1250/1250 [==============================] - 33s 26ms/step - loss: 0.7417 - acc: 0.7546 - val_loss: 0.8164 - val_acc: 0.7523\n",
      "Epoch 21/50\n",
      "1250/1250 [==============================] - 33s 26ms/step - loss: 0.7069 - acc: 0.7663 - val_loss: 0.7122 - val_acc: 0.7597\n",
      "Epoch 22/50\n",
      "1250/1250 [==============================] - 33s 26ms/step - loss: 0.7103 - acc: 0.7682 - val_loss: 0.9894 - val_acc: 0.7074\n",
      "Epoch 23/50\n",
      "1250/1250 [==============================] - 33s 26ms/step - loss: 0.6819 - acc: 0.7714 - val_loss: 0.6967 - val_acc: 0.7710\n",
      "Epoch 24/50\n",
      "1250/1250 [==============================] - 33s 26ms/step - loss: 0.6615 - acc: 0.7846 - val_loss: 0.7106 - val_acc: 0.7613\n",
      "Epoch 25/50\n",
      "1250/1250 [==============================] - 33s 27ms/step - loss: 0.6713 - acc: 0.7832 - val_loss: 0.6687 - val_acc: 0.7741\n",
      "Epoch 26/50\n",
      "1250/1250 [==============================] - 33s 26ms/step - loss: 0.6367 - acc: 0.7851 - val_loss: 0.6284 - val_acc: 0.7932\n",
      "Epoch 27/50\n",
      "1250/1250 [==============================] - 33s 27ms/step - loss: 0.6230 - acc: 0.7945 - val_loss: 0.6372 - val_acc: 0.7943\n",
      "Epoch 28/50\n",
      "1250/1250 [==============================] - 33s 27ms/step - loss: 0.6191 - acc: 0.7921 - val_loss: 0.6122 - val_acc: 0.8106\n",
      "Epoch 29/50\n",
      "1250/1250 [==============================] - 33s 26ms/step - loss: 0.6067 - acc: 0.7963 - val_loss: 0.6135 - val_acc: 0.8024\n",
      "Epoch 30/50\n",
      "1250/1250 [==============================] - 33s 26ms/step - loss: 0.6204 - acc: 0.7989 - val_loss: 0.6287 - val_acc: 0.7945\n",
      "Epoch 31/50\n",
      "1250/1250 [==============================] - 33s 27ms/step - loss: 0.5736 - acc: 0.8066 - val_loss: 0.5603 - val_acc: 0.8188\n",
      "Epoch 32/50\n",
      "1250/1250 [==============================] - 33s 26ms/step - loss: 0.5633 - acc: 0.8127 - val_loss: 0.9177 - val_acc: 0.7338\n",
      "Epoch 33/50\n",
      "1250/1250 [==============================] - 33s 26ms/step - loss: 0.5672 - acc: 0.8131 - val_loss: 0.5342 - val_acc: 0.8255\n",
      "Epoch 34/50\n",
      "1250/1250 [==============================] - 33s 26ms/step - loss: 0.5614 - acc: 0.8152 - val_loss: 0.5727 - val_acc: 0.8121\n",
      "Epoch 35/50\n",
      "1250/1250 [==============================] - 33s 26ms/step - loss: 0.5345 - acc: 0.8194 - val_loss: 0.5922 - val_acc: 0.8075\n",
      "Epoch 36/50\n",
      "1250/1250 [==============================] - 33s 26ms/step - loss: 0.5230 - acc: 0.8209 - val_loss: 0.5586 - val_acc: 0.8169\n",
      "Epoch 37/50\n",
      "1250/1250 [==============================] - 33s 27ms/step - loss: 0.5115 - acc: 0.8285 - val_loss: 0.5608 - val_acc: 0.8096\n",
      "Epoch 38/50\n",
      "1250/1250 [==============================] - 33s 26ms/step - loss: 0.5484 - acc: 0.8299 - val_loss: 0.5379 - val_acc: 0.8277\n",
      "Epoch 39/50\n",
      "1250/1250 [==============================] - 33s 26ms/step - loss: 0.5064 - acc: 0.8309 - val_loss: 0.5214 - val_acc: 0.8326\n",
      "Epoch 40/50\n",
      "1250/1250 [==============================] - 33s 26ms/step - loss: 0.5032 - acc: 0.8317 - val_loss: 0.5861 - val_acc: 0.8164\n",
      "Epoch 41/50\n",
      "1250/1250 [==============================] - 33s 26ms/step - loss: 0.4936 - acc: 0.8359 - val_loss: 0.5393 - val_acc: 0.8231\n",
      "Epoch 42/50\n",
      "1250/1250 [==============================] - 33s 26ms/step - loss: 0.4838 - acc: 0.8416 - val_loss: 0.5409 - val_acc: 0.8242\n",
      "Epoch 43/50\n",
      "1250/1250 [==============================] - 33s 26ms/step - loss: 0.4948 - acc: 0.8438 - val_loss: 0.5658 - val_acc: 0.8252\n",
      "Epoch 44/50\n",
      "1250/1250 [==============================] - 33s 26ms/step - loss: 0.4733 - acc: 0.8492 - val_loss: 0.5295 - val_acc: 0.8268\n",
      "Epoch 45/50\n",
      "1250/1250 [==============================] - 33s 26ms/step - loss: 0.4603 - acc: 0.8464 - val_loss: 0.5474 - val_acc: 0.8348\n",
      "Epoch 46/50\n",
      "1250/1250 [==============================] - 33s 26ms/step - loss: 0.4391 - acc: 0.8534 - val_loss: 0.4995 - val_acc: 0.8379\n",
      "Epoch 47/50\n",
      "1250/1250 [==============================] - 33s 26ms/step - loss: 0.4442 - acc: 0.8506 - val_loss: 0.5492 - val_acc: 0.8284\n",
      "Epoch 48/50\n",
      "1250/1250 [==============================] - 33s 26ms/step - loss: 0.4390 - acc: 0.8561 - val_loss: 0.5308 - val_acc: 0.8367\n",
      "Epoch 49/50\n",
      "1250/1250 [==============================] - 33s 26ms/step - loss: 0.4478 - acc: 0.8543 - val_loss: 0.5109 - val_acc: 0.8465\n",
      "Epoch 50/50\n",
      "1250/1250 [==============================] - 33s 26ms/step - loss: 0.4130 - acc: 0.8618 - val_loss: 0.6289 - val_acc: 0.8137\n"
     ]
    }
   ],
   "source": [
    "history = model.fit(x_tr, y_tr, batch_size=32, epochs=50, validation_data=(x_val, y_val))"
   ]
  },
  {
   "cell_type": "code",
   "execution_count": null,
   "metadata": {
    "colab": {
     "base_uri": "https://localhost:8080/",
     "height": 279
    },
    "id": "6NKMCLsbfFAg",
    "outputId": "f27162de-346a-4087-8366-f7fbdf48f1fd"
   },
   "outputs": [
    {
     "data": {
      "image/png": "[encoded data removed]",
      "text/plain": [
       "<Figure size 432x288 with 1 Axes>"
      ]
     },
     "metadata": {
      "needs_background": "light",
      "tags": []
     },
     "output_type": "display_data"
    }
   ],
   "source": [
    "import matplotlib.pyplot as plt\n",
    "%matplotlib inline\n",
    "\n",
    "acc = history.history['acc']\n",
    "val_acc = history.history['val_acc']\n",
    "\n",
    "epochs = range(len(acc))\n",
    "\n",
    "plt.plot(epochs, acc, 'bo', label='Training acc')\n",
    "plt.plot(epochs, val_acc, 'r', label='Validation acc')\n",
    "plt.xlabel('Epochs')\n",
    "plt.ylabel('Accuracy')\n",
    "plt.legend()\n",
    "plt.show()"
   ]
  },
  {
   "cell_type": "markdown",
   "metadata": {
    "id": "rvS6MbyTfFAg"
   },
   "source": [
    "## 3. Train (again) and evaluate the model\n",
    "\n",
    "- To this end, you have found the \"best\" hyper-parameters. \n",
    "- Now, fix the hyper-parameters and train the network on the entire training set (all the 50K training samples)\n",
    "- Evaluate your model on the test set."
   ]
  },
  {
   "cell_type": "markdown",
   "metadata": {
    "id": "VV90a0jRfFAh"
   },
   "source": [
    "### 3.1. Train the model on the entire training set\n",
    "\n",
    "Why? Previously, you used 40K samples for training; you wasted 10K samples for the sake of hyper-parameter tuning. Now you already know the hyper-parameters, so why not using all the 50K samples for training?"
   ]
  },
  {
   "cell_type": "code",
   "execution_count": null,
   "metadata": {
    "colab": {
     "base_uri": "https://localhost:8080/"
    },
    "id": "7qerH8oCfFAh",
    "outputId": "3b563e99-7cde-4699-bc42-0b428027675e"
   },
   "outputs": [
    {
     "name": "stdout",
     "output_type": "stream",
     "text": [
      "Model: \"sequential_1\"\n",
      "_________________________________________________________________\n",
      "Layer (type)                 Output Shape              Param #   \n",
      "=================================================================\n",
      "conv2d_10 (Conv2D)           (None, 32, 32, 64)        1792      \n",
      "_________________________________________________________________\n",
      "batch_normalization_13 (Batc (None, 32, 32, 64)        256       \n",
      "_________________________________________________________________\n",
      "activation_13 (Activation)   (None, 32, 32, 64)        0         \n",
      "_________________________________________________________________\n",
      "conv2d_11 (Conv2D)           (None, 32, 32, 64)        36928     \n",
      "_________________________________________________________________\n",
      "batch_normalization_14 (Batc (None, 32, 32, 64)        256       \n",
      "_________________________________________________________________\n",
      "activation_14 (Activation)   (None, 32, 32, 64)        0         \n",
      "_________________________________________________________________\n",
      "max_pooling2d_4 (MaxPooling2 (None, 16, 16, 64)        0         \n",
      "_________________________________________________________________\n",
      "dropout_7 (Dropout)          (None, 16, 16, 64)        0         \n",
      "_________________________________________________________________\n",
      "conv2d_12 (Conv2D)           (None, 16, 16, 128)       73856     \n",
      "_________________________________________________________________\n",
      "batch_normalization_15 (Batc (None, 16, 16, 128)       512       \n",
      "_________________________________________________________________\n",
      "activation_15 (Activation)   (None, 16, 16, 128)       0         \n",
      "_________________________________________________________________\n",
      "conv2d_13 (Conv2D)           (None, 16, 16, 128)       147584    \n",
      "_________________________________________________________________\n",
      "batch_normalization_16 (Batc (None, 16, 16, 128)       512       \n",
      "_________________________________________________________________\n",
      "activation_16 (Activation)   (None, 16, 16, 128)       0         \n",
      "_________________________________________________________________\n",
      "max_pooling2d_5 (MaxPooling2 (None, 8, 8, 128)         0         \n",
      "_________________________________________________________________\n",
      "dropout_8 (Dropout)          (None, 8, 8, 128)         0         \n",
      "_________________________________________________________________\n",
      "conv2d_14 (Conv2D)           (None, 8, 8, 256)         295168    \n",
      "_________________________________________________________________\n",
      "batch_normalization_17 (Batc (None, 8, 8, 256)         1024      \n",
      "_________________________________________________________________\n",
      "activation_17 (Activation)   (None, 8, 8, 256)         0         \n",
      "_________________________________________________________________\n",
      "dropout_9 (Dropout)          (None, 8, 8, 256)         0         \n",
      "_________________________________________________________________\n",
      "conv2d_15 (Conv2D)           (None, 8, 8, 256)         590080    \n",
      "_________________________________________________________________\n",
      "batch_normalization_18 (Batc (None, 8, 8, 256)         1024      \n",
      "_________________________________________________________________\n",
      "activation_18 (Activation)   (None, 8, 8, 256)         0         \n",
      "_________________________________________________________________\n",
      "conv2d_16 (Conv2D)           (None, 8, 8, 256)         590080    \n",
      "_________________________________________________________________\n",
      "batch_normalization_19 (Batc (None, 8, 8, 256)         1024      \n",
      "_________________________________________________________________\n",
      "activation_19 (Activation)   (None, 8, 8, 256)         0         \n",
      "_________________________________________________________________\n",
      "max_pooling2d_6 (MaxPooling2 (None, 4, 4, 256)         0         \n",
      "_________________________________________________________________\n",
      "dropout_10 (Dropout)         (None, 4, 4, 256)         0         \n",
      "_________________________________________________________________\n",
      "conv2d_17 (Conv2D)           (None, 4, 4, 512)         1180160   \n",
      "_________________________________________________________________\n",
      "batch_normalization_20 (Batc (None, 4, 4, 512)         2048      \n",
      "_________________________________________________________________\n",
      "activation_20 (Activation)   (None, 4, 4, 512)         0         \n",
      "_________________________________________________________________\n",
      "dropout_11 (Dropout)         (None, 4, 4, 512)         0         \n",
      "_________________________________________________________________\n",
      "conv2d_18 (Conv2D)           (None, 4, 4, 512)         2359808   \n",
      "_________________________________________________________________\n",
      "batch_normalization_21 (Batc (None, 4, 4, 512)         2048      \n",
      "_________________________________________________________________\n",
      "activation_21 (Activation)   (None, 4, 4, 512)         0         \n",
      "_________________________________________________________________\n",
      "conv2d_19 (Conv2D)           (None, 4, 4, 512)         2359808   \n",
      "_________________________________________________________________\n",
      "batch_normalization_22 (Batc (None, 4, 4, 512)         2048      \n",
      "_________________________________________________________________\n",
      "activation_22 (Activation)   (None, 4, 4, 512)         0         \n",
      "_________________________________________________________________\n",
      "max_pooling2d_7 (MaxPooling2 (None, 2, 2, 512)         0         \n",
      "_________________________________________________________________\n",
      "flatten_1 (Flatten)          (None, 2048)              0         \n",
      "_________________________________________________________________\n",
      "dense_4 (Dense)              (None, 4096)              8392704   \n",
      "_________________________________________________________________\n",
      "batch_normalization_23 (Batc (None, 4096)              16384     \n",
      "_________________________________________________________________\n",
      "activation_23 (Activation)   (None, 4096)              0         \n",
      "_________________________________________________________________\n",
      "dropout_12 (Dropout)         (None, 4096)              0         \n",
      "_________________________________________________________________\n",
      "dense_5 (Dense)              (None, 4096)              16781312  \n",
      "_________________________________________________________________\n",
      "batch_normalization_24 (Batc (None, 4096)              16384     \n",
      "_________________________________________________________________\n",
      "activation_24 (Activation)   (None, 4096)              0         \n",
      "_________________________________________________________________\n",
      "dropout_13 (Dropout)         (None, 4096)              0         \n",
      "_________________________________________________________________\n",
      "dense_6 (Dense)              (None, 4096)              16781312  \n",
      "_________________________________________________________________\n",
      "batch_normalization_25 (Batc (None, 4096)              16384     \n",
      "_________________________________________________________________\n",
      "activation_25 (Activation)   (None, 4096)              0         \n",
      "_________________________________________________________________\n",
      "dense_7 (Dense)              (None, 10)                40970     \n",
      "=================================================================\n",
      "Total params: 49,691,466\n",
      "Trainable params: 49,661,514\n",
      "Non-trainable params: 29,952\n",
      "_________________________________________________________________\n"
     ]
    }
   ],
   "source": [
    "#<Compile your model again (using the same hyper-parameters)>\n",
    "# Reinitialize VGG-16\n",
    "model = Sequential()\n",
    "model.add(Conv2D(64, (3, 3), padding='same', input_shape=(32, 32, 3)))\n",
    "model.add(BatchNormalization())\n",
    "model.add(Activation(activations.relu))\n",
    "model.add(Conv2D(64, (3, 3), padding='same'))\n",
    "model.add(BatchNormalization())\n",
    "model.add(Activation(activations.relu))\n",
    "model.add(MaxPooling2D((2, 2)))\n",
    "model.add(Dropout(0.5))\n",
    "model.add(Conv2D(128, (3, 3), padding='same'))\n",
    "model.add(BatchNormalization())\n",
    "model.add(Activation(activations.relu))\n",
    "model.add(Conv2D(128, (3, 3), padding='same'))\n",
    "model.add(BatchNormalization())\n",
    "model.add(Activation(activations.relu))\n",
    "model.add(MaxPooling2D((2, 2)))\n",
    "model.add(Dropout(0.5))\n",
    "model.add(Conv2D(256, (3, 3), padding='same'))\n",
    "model.add(BatchNormalization())\n",
    "model.add(Activation(activations.relu))\n",
    "model.add(Dropout(0.5))\n",
    "model.add(Conv2D(256, (3, 3), padding='same'))\n",
    "model.add(BatchNormalization())\n",
    "model.add(Activation(activations.relu))\n",
    "model.add(Conv2D(256, (3, 3), padding='same'))\n",
    "model.add(BatchNormalization())\n",
    "model.add(Activation(activations.relu))\n",
    "model.add(MaxPooling2D((2, 2)))\n",
    "model.add(Dropout(0.5))\n",
    "model.add(Conv2D(512, (3, 3), padding='same'))\n",
    "model.add(BatchNormalization())\n",
    "model.add(Activation(activations.relu))\n",
    "model.add(Dropout(0.5))\n",
    "model.add(Conv2D(512, (3, 3), padding='same'))\n",
    "model.add(BatchNormalization())\n",
    "model.add(Activation(activations.relu))\n",
    "model.add(Conv2D(512, (3, 3), padding='same'))\n",
    "model.add(BatchNormalization())\n",
    "model.add(Activation(activations.relu))\n",
    "model.add(MaxPooling2D((2, 2)))\n",
    "model.add(Flatten())\n",
    "model.add(Dense(4096))\n",
    "model.add(BatchNormalization())\n",
    "model.add(Activation(activations.relu))\n",
    "model.add(Dropout(0.5))\n",
    "model.add(Dense(4096))\n",
    "model.add(BatchNormalization())\n",
    "model.add(Activation(activations.relu))\n",
    "model.add(Dropout(0.5))\n",
    "model.add(Dense(4096))\n",
    "model.add(BatchNormalization())\n",
    "model.add(Activation(activations.relu))\n",
    "model.add(Dense(10, activation='softmax'))\n",
    "\n",
    "model.summary()\n",
    "\n",
    "#Compile model\n",
    "model.compile(loss='categorical_crossentropy',\n",
    "              optimizer=optimizers.RMSprop(lr=learning_rate),\n",
    "              metrics=['acc'])"
   ]
  },
  {
   "cell_type": "code",
   "execution_count": 9,
   "metadata": {
    "colab": {
     "base_uri": "https://localhost:8080/"
    },
    "id": "voNE8YbEfFAi",
    "outputId": "3e3fb748-5568-439a-edf7-1d07150d9bb9"
   },
   "outputs": [
    {
     "name": "stdout",
     "output_type": "stream",
     "text": [
      "Epoch 1/50\n",
      "1563/1563 [==============================] - 43s 26ms/step - loss: 2.3960 - acc: 0.1914\n",
      "Epoch 2/50\n",
      "1563/1563 [==============================] - 40s 25ms/step - loss: 1.6572 - acc: 0.4027\n",
      "Epoch 3/50\n",
      "1563/1563 [==============================] - 40s 25ms/step - loss: 1.4500 - acc: 0.4823\n",
      "Epoch 4/50\n",
      "1563/1563 [==============================] - 40s 25ms/step - loss: 1.3160 - acc: 0.5391\n",
      "Epoch 5/50\n",
      "1563/1563 [==============================] - 40s 25ms/step - loss: 1.2254 - acc: 0.5722\n",
      "Epoch 6/50\n",
      "1563/1563 [==============================] - 40s 25ms/step - loss: 1.1465 - acc: 0.6028\n",
      "Epoch 7/50\n",
      "1563/1563 [==============================] - 40s 25ms/step - loss: 1.0887 - acc: 0.6242\n",
      "Epoch 8/50\n",
      "1563/1563 [==============================] - 40s 25ms/step - loss: 1.0468 - acc: 0.6456\n",
      "Epoch 9/50\n",
      "1563/1563 [==============================] - 40s 25ms/step - loss: 0.9937 - acc: 0.6613\n",
      "Epoch 10/50\n",
      "1563/1563 [==============================] - 40s 25ms/step - loss: 0.9580 - acc: 0.6801\n",
      "Epoch 11/50\n",
      "1563/1563 [==============================] - 40s 25ms/step - loss: 0.8944 - acc: 0.6967\n",
      "Epoch 12/50\n",
      "1563/1563 [==============================] - 40s 25ms/step - loss: 0.8726 - acc: 0.7091\n",
      "Epoch 13/50\n",
      "1563/1563 [==============================] - 40s 25ms/step - loss: 0.8341 - acc: 0.7184\n",
      "Epoch 14/50\n",
      "1563/1563 [==============================] - 40s 25ms/step - loss: 0.8097 - acc: 0.7296\n",
      "Epoch 15/50\n",
      "1563/1563 [==============================] - 40s 25ms/step - loss: 0.7755 - acc: 0.7370\n",
      "Epoch 16/50\n",
      "1563/1563 [==============================] - 39s 25ms/step - loss: 0.7528 - acc: 0.7444\n",
      "Epoch 17/50\n",
      "1563/1563 [==============================] - 39s 25ms/step - loss: 0.7502 - acc: 0.7546\n",
      "Epoch 18/50\n",
      "1563/1563 [==============================] - 40s 25ms/step - loss: 0.7032 - acc: 0.7650\n",
      "Epoch 19/50\n",
      "1563/1563 [==============================] - 40s 25ms/step - loss: 0.6866 - acc: 0.7717\n",
      "Epoch 20/50\n",
      "1563/1563 [==============================] - 40s 25ms/step - loss: 0.6784 - acc: 0.7725\n",
      "Epoch 21/50\n",
      "1563/1563 [==============================] - 40s 25ms/step - loss: 0.6734 - acc: 0.7798\n",
      "Epoch 22/50\n",
      "1563/1563 [==============================] - 40s 25ms/step - loss: 0.6326 - acc: 0.7879\n",
      "Epoch 23/50\n",
      "1563/1563 [==============================] - 40s 25ms/step - loss: 0.6319 - acc: 0.7892\n",
      "Epoch 24/50\n",
      "1563/1563 [==============================] - 40s 25ms/step - loss: 0.6110 - acc: 0.7974\n",
      "Epoch 25/50\n",
      "1563/1563 [==============================] - 40s 25ms/step - loss: 0.6151 - acc: 0.8016\n",
      "Epoch 26/50\n",
      "1563/1563 [==============================] - 40s 25ms/step - loss: 0.5845 - acc: 0.8070\n",
      "Epoch 27/50\n",
      "1563/1563 [==============================] - 40s 25ms/step - loss: 0.5847 - acc: 0.8066\n",
      "Epoch 28/50\n",
      "1563/1563 [==============================] - 40s 25ms/step - loss: 0.5558 - acc: 0.8124\n",
      "Epoch 29/50\n",
      "1563/1563 [==============================] - 40s 25ms/step - loss: 0.5628 - acc: 0.8145\n",
      "Epoch 30/50\n",
      "1563/1563 [==============================] - 40s 26ms/step - loss: 0.5488 - acc: 0.8209\n",
      "Epoch 31/50\n",
      "1563/1563 [==============================] - 40s 26ms/step - loss: 0.5360 - acc: 0.8243\n",
      "Epoch 32/50\n",
      "1563/1563 [==============================] - 40s 26ms/step - loss: 0.5396 - acc: 0.8259\n",
      "Epoch 33/50\n",
      "1563/1563 [==============================] - 40s 26ms/step - loss: 0.5300 - acc: 0.8300\n",
      "Epoch 34/50\n",
      "1563/1563 [==============================] - 40s 26ms/step - loss: 0.5293 - acc: 0.8298\n",
      "Epoch 35/50\n",
      "1563/1563 [==============================] - 40s 26ms/step - loss: 0.5000 - acc: 0.8326\n",
      "Epoch 36/50\n",
      "1563/1563 [==============================] - 40s 26ms/step - loss: 0.4864 - acc: 0.8368\n",
      "Epoch 37/50\n",
      "1563/1563 [==============================] - 40s 26ms/step - loss: 0.5004 - acc: 0.8377\n",
      "Epoch 38/50\n",
      "1563/1563 [==============================] - 40s 26ms/step - loss: 0.4735 - acc: 0.8421\n",
      "Epoch 39/50\n",
      "1563/1563 [==============================] - 40s 26ms/step - loss: 0.4797 - acc: 0.8446\n",
      "Epoch 40/50\n",
      "1563/1563 [==============================] - 40s 26ms/step - loss: 0.4596 - acc: 0.8481\n",
      "Epoch 41/50\n",
      "1563/1563 [==============================] - 40s 26ms/step - loss: 0.4502 - acc: 0.8497\n",
      "Epoch 42/50\n",
      "1563/1563 [==============================] - 40s 26ms/step - loss: 0.4500 - acc: 0.8526\n",
      "Epoch 43/50\n",
      "1563/1563 [==============================] - 40s 26ms/step - loss: 0.4475 - acc: 0.8546\n",
      "Epoch 44/50\n",
      "1563/1563 [==============================] - 40s 26ms/step - loss: 0.4423 - acc: 0.8549\n",
      "Epoch 45/50\n",
      "1563/1563 [==============================] - 40s 26ms/step - loss: 0.4184 - acc: 0.8605\n",
      "Epoch 46/50\n",
      "1563/1563 [==============================] - 40s 26ms/step - loss: 0.4169 - acc: 0.8611\n",
      "Epoch 47/50\n",
      "1563/1563 [==============================] - 40s 26ms/step - loss: 0.4253 - acc: 0.8598\n",
      "Epoch 48/50\n",
      "1563/1563 [==============================] - 40s 26ms/step - loss: 0.4194 - acc: 0.8642\n",
      "Epoch 49/50\n",
      "1563/1563 [==============================] - 40s 26ms/step - loss: 0.4144 - acc: 0.8650\n",
      "Epoch 50/50\n",
      "1563/1563 [==============================] - 40s 26ms/step - loss: 0.3916 - acc: 0.8694\n"
     ]
    }
   ],
   "source": [
    "#<Train your model on the entire training set (50K samples)>\n",
    "#<Use (x_train, y_train_vec) instead of (x_tr, y_tr)>\n",
    "#<Do NOT use the validation_data option (because now you do not have validation data)>\n",
    "#Train Model\n",
    "history = model.fit(x_train, y_train_vec, batch_size=32, epochs=50)"
   ]
  },
  {
   "cell_type": "markdown",
   "metadata": {
    "id": "Br14Vr47fFAi"
   },
   "source": [
    "### 3.2. Evaluate the model on the test set\n",
    "\n",
    "Do NOT used the test set until now. Make sure that your model parameters and hyper-parameters are independent of the test set."
   ]
  },
  {
   "cell_type": "code",
   "execution_count": 11,
   "metadata": {
    "colab": {
     "base_uri": "https://localhost:8080/"
    },
    "id": "e36WdXq5fFAj",
    "outputId": "79f7475a-ce88-4b5e-e54c-67c57c92135a"
   },
   "outputs": [
    {
     "name": "stdout",
     "output_type": "stream",
     "text": [
      "313/313 [==============================] - 2s 7ms/step - loss: 0.4778 - acc: 0.8471\n",
      "loss = 0.47781363129615784\n",
      "accuracy = 0.847100019454956\n"
     ]
    }
   ],
   "source": [
    "loss_and_acc = model.evaluate(x_test, y_test_vec)\n",
    "print('loss = ' + str(loss_and_acc[0]))\n",
    "print('accuracy = ' + str(loss_and_acc[1]))"
   ]
  }
 ],
 "metadata": {
  "accelerator": "GPU",
  "colab": {
   "collapsed_sections": [],
   "name": "HM4.ipynb",
   "provenance": []
  },
  "kernelspec": {
   "display_name": "Python 3",
   "language": "python",
   "name": "python3"
  },
  "language_info": {
   "codemirror_mode": {
    "name": "ipython",
    "version": 3
   },
   "file_extension": ".py",
   "mimetype": "text/x-python",
   "name": "python",
   "nbconvert_exporter": "python",
   "pygments_lexer": "ipython3",
   "version": "3.8.3"
  }
 },
 "nbformat": 4,
 "nbformat_minor": 1
}
